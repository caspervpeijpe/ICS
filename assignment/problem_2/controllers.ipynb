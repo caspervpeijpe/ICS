{
 "cells": [
  {
   "cell_type": "markdown",
   "id": "ac408b5e",
   "metadata": {
    "deletable": false,
    "editable": false,
    "nbgrader": {
     "cell_type": "markdown",
     "checksum": "a96d02d6346fa7399cf6da0111ce0937",
     "grade": false,
     "grade_id": "cell-b00828259c8e42e8",
     "locked": true,
     "schema_version": 3,
     "solution": false,
     "task": false
    }
   },
   "source": [
    "# RO47019: Intelligent Control Systems Practical Assignment\n",
    "* Period: 2022-2023, Q3\n",
    "* Course homepage: https://brightspace.tudelft.nl/d2l/home/500969\n",
    "* Instructor: Cosimo Della Santina (C.DellaSantina@tudelft.nl)\n",
    "* Teaching assistant: Ruben Martin Rodriguez (R.MartinRodriguez@student.tudelft.nl)\n",
    "* (c) TU Delft, 2023\n",
    "\n",
    "Make sure you fill in any place that says `YOUR CODE HERE` or `YOUR ANSWER HERE`. Remove `raise NotImplementedError()` afterwards. Moreover, if you see an empty cell, please DO NOT delete it, instead run that cell as you would run all other cells. Please fill in your name(s) and other required details below:"
   ]
  },
  {
   "cell_type": "code",
   "execution_count": null,
   "id": "4f9e220c",
   "metadata": {},
   "outputs": [],
   "source": [
    "# Please fill in your names, student numbers, netID, and emails below.\n",
    "STUDENT_1_NAME = \"\"\n",
    "STUDENT_1_STUDENT_NUMBER = \"\"\n",
    "STUDENT_1_NETID = \"\"\n",
    "STUDENT_1_EMAIL = \"\""
   ]
  },
  {
   "cell_type": "code",
   "execution_count": null,
   "id": "8ba32571",
   "metadata": {
    "deletable": false,
    "editable": false,
    "nbgrader": {
     "cell_type": "code",
     "checksum": "042927213b84aa368aa3ea72caa4cb60",
     "grade": true,
     "grade_id": "cell-9f148ec62e0de49c",
     "locked": true,
     "points": 0,
     "schema_version": 3,
     "solution": false,
     "task": false
    }
   },
   "outputs": [],
   "source": [
    "# Note: this block is a check that you have filled in the above information.\n",
    "# It will throw an AssertionError until all fields are filled\n",
    "assert STUDENT_1_NAME != \"\"\n",
    "assert STUDENT_1_STUDENT_NUMBER != \"\"\n",
    "assert STUDENT_1_NETID != \"\"\n",
    "assert STUDENT_1_EMAIL != \"\""
   ]
  },
  {
   "cell_type": "markdown",
   "id": "af317a94",
   "metadata": {
    "deletable": false,
    "editable": false,
    "nbgrader": {
     "cell_type": "markdown",
     "checksum": "e76ef40fcc3f08a0484661497162a1a9",
     "grade": false,
     "grade_id": "cell-4ea391677951116c",
     "locked": true,
     "schema_version": 3,
     "solution": false,
     "task": false
    }
   },
   "source": [
    "### General announcements\n",
    "\n",
    "* Do *not* share your solutions, and do *not* copy solutions from others. By submitting your solutions, you claim that you alone are responsible for this code.\n",
    "\n",
    "* Do *not* email questions directly, since we want to provide everybody with the same information and avoid repeating the same answers. Instead, please post your questions regarding this assignment in the correct support forum on Brightspace, this way everybody can benefit from the response. If you do have a particular question that you want to ask directly, please use the scheduled Q&A hours to ask the TA.\n",
    "\n",
    "* There is a strict deadline for each assignment. Students are responsible to ensure that they have uploaded their work in time. So, please double check that your upload succeeded to the Brightspace and avoid any late penalties.\n",
    "\n",
    "* This [Jupyter notebook](https://jupyter.org/) uses `nbgrader` to help us with automated tests. `nbgrader` will make various cells in this notebook \"uneditable\" or \"unremovable\" and gives them a special id in the cell metadata. This way, when we run our checks, the system will check the existence of the cell ids and verify the number of points and which checks must be run. While there are ways that you can edit the metadata and work around the restrictions to delete or modify these special cells, you should not do that since then our nbgrader backend will not be able to parse your notebook and give you points for the assignment. You are free to add additional cells, but if you find a cell that you cannot modify or remove, please know that this is on purpose.\n",
    "\n",
    "* This notebook will have in various places a line that throws a `NotImplementedError` exception. These are locations where the assignment requires you to adapt the code! These lines are just there as a reminder for youthat you have not yet adapted that particular piece of code, especially when you execute all the cells. Once your solution code replaced these lines, it should accordingly *not* throw any exceptions anymore.\n",
    "\n",
    "Before you turn this problem in, make sure everything runs as expected. First, **restart the kernel** (in the menubar, select Kernel$\\rightarrow$Restart) and then **run all cells** (in the menubar, select Cell$\\rightarrow$Run All)."
   ]
  },
  {
   "cell_type": "code",
   "execution_count": null,
   "id": "3c956945",
   "metadata": {},
   "outputs": [],
   "source": []
  },
  {
   "cell_type": "markdown",
   "id": "176a210c",
   "metadata": {
    "deletable": false,
    "editable": false,
    "nbgrader": {
     "cell_type": "markdown",
     "checksum": "cdef502417004e31109113d6634b8e06",
     "grade": false,
     "grade_id": "cell-c7f59c759e82c493",
     "locked": true,
     "schema_version": 3,
     "solution": false,
     "task": false
    }
   },
   "source": [
    "# Classical model-based controllers for mechanical systems\n",
    "This file should solely contain the functions implementing the various feedback and feedforward controllers. After the implementing the controllers here, please run the Jupyter notebooks dedicated to each task for simulating the closed-loop system. In particular, this includes for Task 2.a:\n",
    "\n",
    "- `task_2a-1_pd_control.ipynb`\n",
    "- `task_2a-2_pd_plus_gravity_compensation_control.ipynb`\n",
    "- `task_2a-3_pd_plus_feedforward_control.ipynb`\n",
    "- `task_2a-4_pd_plus_control.ipynb`\n",
    "- `task_2a-5_inverse_dynamics_control.ipynb`"
   ]
  },
  {
   "cell_type": "code",
   "execution_count": null,
   "id": "28a7b760",
   "metadata": {
    "deletable": false,
    "editable": false,
    "nbgrader": {
     "cell_type": "code",
     "checksum": "ee8d5c0224fc2cda4c9d638180c77914",
     "grade": false,
     "grade_id": "cell-33c49e2547ae66bd",
     "locked": true,
     "schema_version": 3,
     "solution": false,
     "task": false
    }
   },
   "outputs": [],
   "source": [
    "# import dependencies\n",
    "from functools import partial\n",
    "from jax.config import config as jax_config\n",
    "\n",
    "jax_config.update(\"jax_platform_name\", \"cpu\")  # set default device to 'cpu'\n",
    "jax_config.update(\"jax_enable_x64\", True)  # double precision\n",
    "from jax import jit, random\n",
    "from jax import numpy as jnp\n",
    "from typing import Callable"
   ]
  },
  {
   "cell_type": "code",
   "execution_count": null,
   "id": "ea44dcec",
   "metadata": {
    "deletable": false,
    "nbgrader": {
     "cell_type": "code",
     "checksum": "2ad969a4f5a89bbb349206cbc719d777",
     "grade": false,
     "grade_id": "A-ctrl_fb_pd",
     "locked": false,
     "schema_version": 3,
     "solution": true,
     "task": false
    }
   },
   "outputs": [],
   "source": [
    "@jit\n",
    "def ctrl_fb_pd(\n",
    "    th: jnp.ndarray,\n",
    "    th_d: jnp.ndarray,\n",
    "    th_des: jnp.ndarray,\n",
    "    th_d_des: jnp.ndarray,\n",
    "    kp: jnp.ndarray = jnp.zeros((2, 2)),\n",
    "    kd: jnp.ndarray = jnp.zeros((2, 2)),\n",
    "):\n",
    "    \"\"\"\n",
    "    PD feedback controller\n",
    "    Args:\n",
    "         th: joint angles [rad] of shape (2, )\n",
    "         th_d: joint velocities [rad/s] of shape (2, )\n",
    "         th_des: desired joint angles [rad] of shape (2, )\n",
    "         th_d_des: desired joint velocities [rad/s] of shape (2, )\n",
    "         kp: proportional gains of shape (2, 2)\n",
    "         kd: derivative gains of shape (2, 2)\n",
    "     Returns:\n",
    "         tau_fb: Joint torques computed by the PD controller [Nm] of shape (2, )\n",
    "    \"\"\"\n",
    "    # YOUR CODE HERE\n",
    "    raise NotImplementedError()\n",
    "\n",
    "    return tau_fb"
   ]
  },
  {
   "cell_type": "code",
   "execution_count": null,
   "id": "34e2db13",
   "metadata": {
    "deletable": false,
    "nbgrader": {
     "cell_type": "code",
     "checksum": "50e20fd03f09e63c086fef0ef196fb74",
     "grade": false,
     "grade_id": "A-ctr_ff_gravity_compensation",
     "locked": false,
     "schema_version": 3,
     "solution": true,
     "task": false
    }
   },
   "outputs": [],
   "source": [
    "@partial(\n",
    "    jit,\n",
    "    static_argnums=(0,),\n",
    "    static_argnames=(\"dynamical_matrices_fn\",),\n",
    ")\n",
    "def ctrl_ff_gravity_compensation(\n",
    "    dynamical_matrices_fn: Callable,\n",
    "    th: jnp.ndarray,\n",
    "    th_d: jnp.ndarray,\n",
    "    th_des: jnp.ndarray,\n",
    "    th_d_des: jnp.ndarray,\n",
    "    th_dd_des: jnp.ndarray,\n",
    ") -> jnp.ndarray:\n",
    "    \"\"\"\n",
    "    Computes the feed-forward control term for gravity compensation\n",
    "    Chapter 8.5.1 / Eq. (8.50) in \"Robotics: Modelling, Planning and Control\" by Siciliano et al.\n",
    "    Args:\n",
    "        dynamical_matrices_fn: function that computes the dynamical matrices of the system.\n",
    "            Needs to implement the following signature: M, C, G = dynamical_matrices_fn(th, th_d)\n",
    "        th: current link angles [rad] of shape (2, )\n",
    "        th_d: current link angular velocities [rad/s] of shape (2, )\n",
    "        th_des: desired link angles [rad] of shape (2, )\n",
    "        th_d_des: desired link angular velocities [rad/s] of shape (2, )\n",
    "        th_dd_des: desired link angular accelerations [rad/s^2] of shape (2, )\n",
    "\n",
    "    Returns:\n",
    "        tau_ff: feed-forward control torques [Nm] of shape (2, )\n",
    "    \"\"\"\n",
    "    # YOUR CODE HERE\n",
    "    raise NotImplementedError()\n",
    "\n",
    "    return tau_ff"
   ]
  },
  {
   "cell_type": "code",
   "execution_count": null,
   "id": "3e3ee800",
   "metadata": {
    "deletable": false,
    "nbgrader": {
     "cell_type": "code",
     "checksum": "735332299c21a0f135c8fab111d03ad4",
     "grade": false,
     "grade_id": "A-ctr_ff_pure_feedforward",
     "locked": false,
     "schema_version": 3,
     "solution": true,
     "task": false
    }
   },
   "outputs": [],
   "source": [
    "@partial(\n",
    "    jit,\n",
    "    static_argnums=(0,),\n",
    "    static_argnames=(\"dynamical_matrices_fn\",),\n",
    ")\n",
    "def ctrl_ff_feedforward(\n",
    "    dynamical_matrices_fn: Callable,\n",
    "    th: jnp.ndarray,\n",
    "    th_d: jnp.ndarray,\n",
    "    th_des: jnp.ndarray,\n",
    "    th_d_des: jnp.ndarray,\n",
    "    th_dd_des: jnp.ndarray,\n",
    ") -> jnp.ndarray:\n",
    "    \"\"\"\n",
    "    Computes the control actions of a feedforward controller, which solely relies on the\n",
    "    desired link angular accelerations, velocities and angles.\n",
    "\n",
    "    Args:\n",
    "        dynamical_matrices_fn: function that computes the dynamical matrices of the system.\n",
    "            Needs to implement the following signature: M, C, G = dynamical_matrices_fn(th, th_d)\n",
    "        th: current link angles [rad] of shape (2, )\n",
    "        th_d: current link angular velocities [rad/s] of shape (2, )\n",
    "        th_des: desired link angles [rad] of shape (2, )\n",
    "        th_d_des: desired link angular velocities [rad/s] of shape (2, )\n",
    "        th_dd_des: desired link angular accelerations [rad/s^2] of shape (2, )\n",
    "\n",
    "    Returns:\n",
    "        tau_ff: feed-forward control torques [Nm] of shape (2, )\n",
    "    \"\"\"\n",
    "    # YOUR CODE HERE\n",
    "    raise NotImplementedError()\n",
    "\n",
    "    return tau_ff"
   ]
  },
  {
   "cell_type": "code",
   "execution_count": null,
   "id": "235dbe77",
   "metadata": {
    "deletable": false,
    "nbgrader": {
     "cell_type": "code",
     "checksum": "53a6b6170889e7bc512b3c7c9abcd4d0",
     "grade": false,
     "grade_id": "A-ctr_ff_pd_plus",
     "locked": false,
     "schema_version": 3,
     "solution": true,
     "task": false
    }
   },
   "outputs": [],
   "source": [
    "@partial(\n",
    "    jit,\n",
    "    static_argnums=(0,),\n",
    "    static_argnames=(\"dynamical_matrices_fn\",),\n",
    ")\n",
    "def ctrl_ff_pd_plus(\n",
    "    dynamical_matrices_fn: Callable,\n",
    "    th: jnp.ndarray,\n",
    "    th_d: jnp.ndarray,\n",
    "    th_des: jnp.ndarray,\n",
    "    th_d_des: jnp.ndarray,\n",
    "    th_dd_des: jnp.ndarray,\n",
    ") -> jnp.ndarray:\n",
    "    \"\"\"\n",
    "    Computes the mixed feed-forward control term for PD+ control,\n",
    "    which compensates the dynamics by evaluating the model at the current system state.\n",
    "    This corresponds to the Paden and Panja Scheme, as described in Chapter 7.3.4 / E. (7.62) of\n",
    "    \"Brogliato, Bernard, et al. \"Dissipative systems analysis and control.\" Theory and Applications 2 (2007): 2-5.\"\n",
    "    for the trajectory tracking case.\n",
    "\n",
    "    Args:\n",
    "        dynamical_matrices_fn: function that computes the dynamical matrices of the system.\n",
    "            Needs to implement the following signature: M, C, G = dynamical_matrices_fn(th, th_d)\n",
    "        th: current link angles [rad] of shape (2, )\n",
    "        th_d: current link angular velocities [rad/s] of shape (2, )\n",
    "        th_des: desired link angles [rad] of shape (2, )\n",
    "        th_d_des: desired link angular velocities [rad/s] of shape (2, )\n",
    "        th_dd_des: desired link angular accelerations [rad/s^2] of shape (2, )\n",
    "\n",
    "    Returns:\n",
    "        tau_ff: feed-forward control torques [Nm] of shape (2, )\n",
    "    \"\"\"\n",
    "    # YOUR CODE HERE\n",
    "    raise NotImplementedError()\n",
    "\n",
    "    return tau_ff"
   ]
  },
  {
   "cell_type": "code",
   "execution_count": null,
   "id": "355f2397",
   "metadata": {
    "deletable": false,
    "nbgrader": {
     "cell_type": "code",
     "checksum": "3a927405310d4bdb88a5dd2d15a6d5e4",
     "grade": false,
     "grade_id": "A-ctr_inverse_dynamics",
     "locked": false,
     "schema_version": 3,
     "solution": true,
     "task": false
    }
   },
   "outputs": [],
   "source": [
    "@partial(\n",
    "    jit,\n",
    "    static_argnums=(0,),\n",
    "    static_argnames=(\"dynamical_matrices_fn\",),\n",
    ")\n",
    "def ctrl_inverse_dynamics(\n",
    "    dynamical_matrices_fn: Callable,\n",
    "    th: jnp.ndarray,\n",
    "    th_d: jnp.ndarray,\n",
    "    th_des: jnp.ndarray,\n",
    "    th_d_des: jnp.ndarray,\n",
    "    th_dd_des: jnp.ndarray,\n",
    "    kp: float = jnp.zeros((2, 2)),\n",
    "    kd: float = jnp.zeros((2, 2)),\n",
    ") -> jnp.ndarray:\n",
    "    \"\"\"\n",
    "    Implements an inverse dynamics / computed torque controller according to Chapter 8.5.2 of the book\n",
    "    \"Robotics, Modelling, Planning and Control\" by Siciliano et al.\n",
    "\n",
    "    Args:\n",
    "        dynamical_matrices_fn: function that computes the dynamical matrices of the system.\n",
    "            Needs to implement the following signature: M, C, G = dynamical_matrices_fn(th, th_d)\n",
    "        th: current link angles [rad] of shape (2, )\n",
    "        th_d: current link angular velocities [rad/s] of shape (2, )\n",
    "        th_des: desired link angles [rad] of shape (2, )\n",
    "        th_d_des: desired link angular velocities [rad/s] of shape (2, )\n",
    "        th_dd_des: desired link angular accelerations [rad/s^2] of shape (2, )\n",
    "        kp: proportional feedback gains of shape (2, 2)\n",
    "        kd: derivative feedback gains of shape (2, 2)\n",
    "    Returns:\n",
    "        tau: control torques (feed-forward and feed-back) [Nm] of shape (2, )\n",
    "    \"\"\"\n",
    "    # YOUR CODE HERE\n",
    "    raise NotImplementedError()\n",
    "\n",
    "    return tau"
   ]
  },
  {
   "cell_type": "code",
   "execution_count": null,
   "id": "89f2ad0b",
   "metadata": {},
   "outputs": [],
   "source": []
  }
 ],
 "metadata": {
  "kernelspec": {
   "display_name": "Python 3 (ipykernel)",
   "language": "python",
   "name": "python3"
  },
  "language_info": {
   "codemirror_mode": {
    "name": "ipython",
    "version": 3
   },
   "file_extension": ".py",
   "mimetype": "text/x-python",
   "name": "python",
   "nbconvert_exporter": "python",
   "pygments_lexer": "ipython3",
   "version": "3.10.9"
  }
 },
 "nbformat": 4,
 "nbformat_minor": 5
}
