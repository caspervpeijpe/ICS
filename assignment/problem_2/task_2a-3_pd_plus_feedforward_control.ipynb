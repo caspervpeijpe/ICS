{
 "cells": [
  {
   "cell_type": "markdown",
   "id": "ac408b5e",
   "metadata": {
    "deletable": false,
    "editable": false,
    "nbgrader": {
     "cell_type": "markdown",
     "checksum": "a96d02d6346fa7399cf6da0111ce0937",
     "grade": false,
     "grade_id": "cell-b00828259c8e42e8",
     "locked": true,
     "schema_version": 3,
     "solution": false,
     "task": false
    }
   },
   "source": [
    "# RO47019: Intelligent Control Systems Practical Assignment\n",
    "* Period: 2022-2023, Q3\n",
    "* Course homepage: https://brightspace.tudelft.nl/d2l/home/500969\n",
    "* Instructor: Cosimo Della Santina (C.DellaSantina@tudelft.nl)\n",
    "* Teaching assistant: Ruben Martin Rodriguez (R.MartinRodriguez@student.tudelft.nl)\n",
    "* (c) TU Delft, 2023\n",
    "\n",
    "Make sure you fill in any place that says `YOUR CODE HERE` or `YOUR ANSWER HERE`. Remove `raise NotImplementedError()` afterwards. Moreover, if you see an empty cell, please DO NOT delete it, instead run that cell as you would run all other cells. Please fill in your name(s) and other required details below:"
   ]
  },
  {
   "cell_type": "code",
   "execution_count": null,
   "id": "4f9e220c",
   "metadata": {},
   "outputs": [],
   "source": [
    "# Please fill in your names, student numbers, netID, and emails below.\n",
    "STUDENT_1_NAME = \"\"\n",
    "STUDENT_1_STUDENT_NUMBER = \"\"\n",
    "STUDENT_1_NETID = \"\"\n",
    "STUDENT_1_EMAIL = \"\""
   ]
  },
  {
   "cell_type": "code",
   "execution_count": null,
   "id": "8ba32571",
   "metadata": {
    "deletable": false,
    "editable": false,
    "nbgrader": {
     "cell_type": "code",
     "checksum": "042927213b84aa368aa3ea72caa4cb60",
     "grade": true,
     "grade_id": "cell-9f148ec62e0de49c",
     "locked": true,
     "points": 0,
     "schema_version": 3,
     "solution": false,
     "task": false
    }
   },
   "outputs": [],
   "source": [
    "# Note: this block is a check that you have filled in the above information.\n",
    "# It will throw an AssertionError until all fields are filled\n",
    "assert STUDENT_1_NAME != \"\"\n",
    "assert STUDENT_1_STUDENT_NUMBER != \"\"\n",
    "assert STUDENT_1_NETID != \"\"\n",
    "assert STUDENT_1_EMAIL != \"\""
   ]
  },
  {
   "cell_type": "markdown",
   "id": "af317a94",
   "metadata": {
    "deletable": false,
    "editable": false,
    "nbgrader": {
     "cell_type": "markdown",
     "checksum": "e76ef40fcc3f08a0484661497162a1a9",
     "grade": false,
     "grade_id": "cell-4ea391677951116c",
     "locked": true,
     "schema_version": 3,
     "solution": false,
     "task": false
    }
   },
   "source": [
    "### General announcements\n",
    "\n",
    "* Do *not* share your solutions, and do *not* copy solutions from others. By submitting your solutions, you claim that you alone are responsible for this code.\n",
    "\n",
    "* Do *not* email questions directly, since we want to provide everybody with the same information and avoid repeating the same answers. Instead, please post your questions regarding this assignment in the correct support forum on Brightspace, this way everybody can benefit from the response. If you do have a particular question that you want to ask directly, please use the scheduled Q&A hours to ask the TA.\n",
    "\n",
    "* There is a strict deadline for each assignment. Students are responsible to ensure that they have uploaded their work in time. So, please double check that your upload succeeded to the Brightspace and avoid any late penalties.\n",
    "\n",
    "* This [Jupyter notebook](https://jupyter.org/) uses `nbgrader` to help us with automated tests. `nbgrader` will make various cells in this notebook \"uneditable\" or \"unremovable\" and gives them a special id in the cell metadata. This way, when we run our checks, the system will check the existence of the cell ids and verify the number of points and which checks must be run. While there are ways that you can edit the metadata and work around the restrictions to delete or modify these special cells, you should not do that since then our nbgrader backend will not be able to parse your notebook and give you points for the assignment. You are free to add additional cells, but if you find a cell that you cannot modify or remove, please know that this is on purpose.\n",
    "\n",
    "* This notebook will have in various places a line that throws a `NotImplementedError` exception. These are locations where the assignment requires you to adapt the code! These lines are just there as a reminder for youthat you have not yet adapted that particular piece of code, especially when you execute all the cells. Once your solution code replaced these lines, it should accordingly *not* throw any exceptions anymore.\n",
    "\n",
    "Before you turn this problem in, make sure everything runs as expected. First, **restart the kernel** (in the menubar, select Kernel$\\rightarrow$Restart) and then **run all cells** (in the menubar, select Cell$\\rightarrow$Run All)."
   ]
  },
  {
   "cell_type": "code",
   "execution_count": null,
   "id": "3c956945",
   "metadata": {},
   "outputs": [],
   "source": []
  },
  {
   "cell_type": "markdown",
   "id": "387d2c60",
   "metadata": {
    "deletable": false,
    "editable": false,
    "nbgrader": {
     "cell_type": "markdown",
     "checksum": "4e8ee1f69fe4df415141ec15a983576f",
     "grade": false,
     "grade_id": "cell-ed88010142fb94bb",
     "locked": true,
     "schema_version": 3,
     "solution": false,
     "task": false
    }
   },
   "source": [
    "# Task 2a.3 - PD + feedforward control (1.5p)\n",
    "\n",
    "In this task, you will implement a PD + feedforward controller. The controller consists of the feedforward term\n",
    "\n",
    "\\begin{equation}\n",
    "\\tau_\\mathrm{ff} = M(\\theta^\\mathrm{d}) \\: \\ddot{\\theta}^\\mathrm{d} + C(\\theta^\\mathrm{d}, \\dot{\\theta}^\\mathrm{d}) \\: \\dot{\\theta}^\\mathrm{d} + G(\\theta^\\mathrm{d}),\n",
    "\\end{equation}\n",
    "\n",
    "and the PD feedback term\n",
    "\n",
    "\\begin{equation}\n",
    "\\tau_\\mathrm{fb} = k_\\mathrm{p} \\, (\\theta^\\mathrm{d}-\\theta) + k_\\mathrm{d} \\, (\\dot{\\theta}^\\mathrm{d}-\\dot{\\theta}).\n",
    "\\end{equation}"
   ]
  },
  {
   "cell_type": "markdown",
   "id": "1a0904cc",
   "metadata": {
    "deletable": false,
    "editable": false,
    "nbgrader": {
     "cell_type": "markdown",
     "checksum": "21c40f94a2f638f9961fbefd18d7965d",
     "grade": false,
     "grade_id": "cell-b8120d577f2b82ff",
     "locked": true,
     "schema_version": 3,
     "solution": false,
     "task": false
    }
   },
   "source": [
    "## Question 1 (0.5p)\n",
    "\n",
    "Which effects / forces does the term $C(\\theta^\\mathrm{d}, \\dot{\\theta}^\\mathrm{d}) \\: \\dot{\\theta}^\\mathrm{d}$ in the feedforward controller compensate?\n",
    "\n",
    "**A:** Inertia forces   \n",
    "\n",
    "**B:** Coriolis & Centrifugal forces   \n",
    "\n",
    "**C:** Time delays \n",
    "\n",
    "**D:** Disturbances\n",
    "\n",
    "**E:** The joint stiffness\n",
    "\n",
    "**F:** Friction effects"
   ]
  },
  {
   "cell_type": "code",
   "execution_count": null,
   "id": "21da0a3f",
   "metadata": {
    "deletable": false,
    "nbgrader": {
     "cell_type": "code",
     "checksum": "af16e98d7897096fd2a215001245f14f",
     "grade": false,
     "grade_id": "cell-57d086c9a40ee29f",
     "locked": false,
     "schema_version": 3,
     "solution": true,
     "task": false
    }
   },
   "outputs": [],
   "source": [
    "# please write the answer (\"A\", \"B\", \"C\", \"D\", \"E\", or \"F\") into the `answer_1` variable\n",
    "answer_1 = None\n",
    "# YOUR CODE HERE\n",
    "raise NotImplementedError()"
   ]
  },
  {
   "cell_type": "code",
   "execution_count": null,
   "id": "c7007cc4",
   "metadata": {
    "deletable": false,
    "editable": false,
    "nbgrader": {
     "cell_type": "code",
     "checksum": "170a1ba896dace9decd099f4575c4a9a",
     "grade": true,
     "grade_id": "cell-8ff510b26b1cfd69",
     "locked": true,
     "points": 0.5,
     "schema_version": 3,
     "solution": false,
     "task": false
    }
   },
   "outputs": [],
   "source": [
    "# DO NOT REMOVE OR MODIFY THIS CELL\n",
    "assert answer_1 in [\n",
    "    \"A\",\n",
    "    \"B\",\n",
    "    \"C\",\n",
    "    \"D\",\n",
    "    \"E\",\n",
    "    \"F\",\n",
    "], 'Please answer \"A\", \"B\", \"C\", \"D\", \"E\", or \"F\"'\n"
   ]
  },
  {
   "cell_type": "code",
   "execution_count": null,
   "id": "35339f62",
   "metadata": {
    "deletable": false,
    "editable": false,
    "nbgrader": {
     "cell_type": "code",
     "checksum": "9071cc941be86e621164f3237f4ea677",
     "grade": false,
     "grade_id": "cell-e33520fa3a4d3861",
     "locked": true,
     "schema_version": 3,
     "solution": false,
     "task": false
    }
   },
   "outputs": [],
   "source": [
    "# Reloads the python files outside of this notebook automatically\n",
    "%load_ext autoreload\n",
    "%autoreload 2\n",
    "\n",
    "# import all Python modules\n",
    "from distutils.util import strtobool\n",
    "from functools import partial\n",
    "from IPython.display import display, HTML  # For animations in the notebook\n",
    "from jax.config import config as jax_config\n",
    "\n",
    "jax_config.update(\"jax_platform_name\", \"cpu\")  # set default device to 'cpu'\n",
    "jax_config.update(\"jax_enable_x64\", True)  # double precision\n",
    "from jax import numpy as jnp\n",
    "import os\n",
    "from pathlib import Path\n",
    "\n",
    "from jax_double_pendulum.dynamics import dynamical_matrices\n",
    "from jax_double_pendulum.robot_parameters import ROBOT_PARAMS\n",
    "\n",
    "# define boolean to check if the notebook is run for the purposes of autograding\n",
    "AUTOGRADING = strtobool(os.environ.get(\"AUTOGRADING\", \"false\"))"
   ]
  },
  {
   "cell_type": "markdown",
   "id": "e55c86e8",
   "metadata": {
    "deletable": false,
    "editable": false,
    "nbgrader": {
     "cell_type": "markdown",
     "checksum": "e86be09eae346d607100700a334a5ff1",
     "grade": false,
     "grade_id": "cell-64d8b35b3e5c9b1f",
     "locked": true,
     "schema_version": 3,
     "solution": false,
     "task": false
    }
   },
   "source": [
    "## Implementing `ctrl_ff_pure_feedforward` (0.5p)\n",
    "Please implement the feedforward term of the controller into the function `ctrl_ff_pure_feedforward` in the notebook `controllers.ipynb`. You can use `M, C, G = dynamical_matrices_fn(.)` to access the components of the equations of motion.\n"
   ]
  },
  {
   "cell_type": "code",
   "execution_count": null,
   "id": "5bc6a16a",
   "metadata": {
    "deletable": false,
    "editable": false,
    "nbgrader": {
     "cell_type": "code",
     "checksum": "e1e16a31aa358d7bf4bd7dcc1113c28b",
     "grade": true,
     "grade_id": "A-ctr_fb_pd",
     "locked": true,
     "points": 0.5,
     "schema_version": 3,
     "solution": false,
     "task": false
    }
   },
   "outputs": [],
   "source": [
    "# DO NOT REMOVE OR MODIFY THIS CELL\n",
    "\n",
    "# import feedforward controller from controllers.ipynb\n",
    "from ipynb.fs.full.controllers import ctrl_fb_pd, ctrl_ff_feedforward\n",
    "\n",
    "# construct feedforward controller\n",
    "ctrl_ff = partial(ctrl_ff_feedforward, partial(dynamical_matrices, ROBOT_PARAMS))\n",
    "\n",
    "# test output shape of ctr_ff_pure_feedforward\n",
    "_th, _th_d = jnp.ones((2,)), jnp.ones((2,))\n",
    "_th_des, _th_d_des, _th_dd_des = jnp.ones((2,)), jnp.ones((2,)), jnp.ones((2,))\n",
    "_tau_dummy = ctrl_ff(_th, _th_d, _th_des, _th_d_des, _th_dd_des)\n",
    "print(\"Computed torque:\", _tau_dummy, \"Nm\")\n",
    "assert _tau_dummy.shape == (2,), \"The computed torque needs to be of shape (2, )\"\n"
   ]
  },
  {
   "cell_type": "markdown",
   "id": "ae56f654",
   "metadata": {
    "deletable": false,
    "editable": false,
    "nbgrader": {
     "cell_type": "markdown",
     "checksum": "31fcdd8bdab6471fa6dc28182949791c",
     "grade": false,
     "grade_id": "cell-fe12b8de9b7c8711",
     "locked": true,
     "schema_version": 3,
     "solution": false,
     "task": false
    }
   },
   "source": [
    "## Simulating the closed-loop system (0p)\n",
    "\n",
    "Please simulate the closed-loop system using a PD + pure feedforward controller for regulating the system to follow the given ellipse trajectory. You can use the notebook from Task 2a.1 as an inspiration. Analogue to Task 2a.1, please initialize the double pendulum at `th_0`. This time, you don't need to tune the feedback gains yourself as they are already set to $k_\\mathrm{p} = \\mathrm{diag}(5000, 5000)$ and $k_\\mathrm{d} = \\mathrm{diag}(50, 50)$."
   ]
  },
  {
   "cell_type": "code",
   "execution_count": null,
   "id": "17e71a9c",
   "metadata": {
    "deletable": false,
    "editable": false,
    "nbgrader": {
     "cell_type": "code",
     "checksum": "82eb3bc604bda6894701fd2a55e812e1",
     "grade": false,
     "grade_id": "cell-5dcd52f754d55bd1",
     "locked": true,
     "schema_version": 3,
     "solution": false,
     "task": false
    }
   },
   "outputs": [],
   "source": [
    "from jax_double_pendulum.analysis import *\n",
    "from jax_double_pendulum.motion_planning import (\n",
    "    generate_ellipse_trajectory,\n",
    "    ELLIPSE_PARAMS,\n",
    ")\n",
    "from jax_double_pendulum.robot_simulation import simulate_robot\n",
    "from jax_double_pendulum.visualization import animate_robot\n",
    "\n",
    "# simulation parameters\n",
    "sim_duration = 10.0  # [s]\n",
    "sim_dt = 1e-2  # [s]\n",
    "\n",
    "# define time steps\n",
    "t_ts = sim_dt * jnp.arange(int(sim_duration / sim_dt))\n",
    "\n",
    "# generate trajectory\n",
    "traj_ts = generate_ellipse_trajectory(\n",
    "    rp=ROBOT_PARAMS,\n",
    "    t_ts=t_ts,\n",
    "    **ELLIPSE_PARAMS,\n",
    ")\n",
    "\n",
    "# initial link angles (i.e. at the first time-step)\n",
    "th_0 = traj_ts[\"th_ts\"][0] - jnp.array([0.1, 0.2])\n",
    "\n",
    "# controller parameters\n",
    "# define the proportional gain matrix kp and the derivative gain matrix kd\n",
    "kp = 5000 * jnp.eye(2)  # [Nm/rad]\n",
    "kd = 50 * jnp.eye(2)  # [Nm s/rad]"
   ]
  },
  {
   "cell_type": "code",
   "execution_count": null,
   "id": "20bef4f6",
   "metadata": {
    "deletable": false,
    "nbgrader": {
     "cell_type": "code",
     "checksum": "320a5dfc4f5e09cc110254b1397be4b4",
     "grade": false,
     "grade_id": "cell-8210b22e8d95b3b6",
     "locked": false,
     "schema_version": 3,
     "solution": true,
     "task": false
    }
   },
   "outputs": [],
   "source": [
    "# simulate the robot with the given controller\n",
    "# YOUR CODE HERE\n",
    "raise NotImplementedError()\n",
    "\n",
    "# evaluate the control performance quantitatively\n",
    "rmse_th, rmse_th_d, rmse_th_dd = compute_configuration_space_rmse(traj_ts, sim_ts)\n",
    "rmse_x, rmse_x_d, rmse_x_dd = compute_operational_space_rmse(traj_ts, sim_ts)\n",
    "with jnp.printoptions(precision=3):\n",
    "    print(\n",
    "        \"RMSE theta:\",\n",
    "        rmse_th,\n",
    "        \"rad, RMSE theta_d:\",\n",
    "        rmse_th_d,\n",
    "        \"rad/s, RMSE theta_dd:\",\n",
    "        rmse_th_dd,\n",
    "        \"rad/s^2\",\n",
    "    )\n",
    "    print(\n",
    "        \"RMSE x:\",\n",
    "        f\"{jnp.linalg.norm(rmse_x):.4f}\",\n",
    "        \"m, RMSE x_d:\",\n",
    "        f\"{jnp.linalg.norm(rmse_x_d):.3f}\",\n",
    "        \"m/s, RMSE x_dd:\",\n",
    "        f\"{jnp.linalg.norm(rmse_x_dd):.2f}\",\n",
    "        \"m/s^2\",\n",
    "    )"
   ]
  },
  {
   "cell_type": "code",
   "execution_count": null,
   "id": "d672e713",
   "metadata": {
    "deletable": false,
    "editable": false,
    "nbgrader": {
     "cell_type": "code",
     "checksum": "8af0203d71a42b23ebbf1fb27978850b",
     "grade": false,
     "grade_id": "cell-7aacd2a5dfff0085",
     "locked": true,
     "schema_version": 3,
     "solution": false,
     "task": false
    }
   },
   "outputs": [],
   "source": [
    "# define folder where to save animations and plots\n",
    "outputs_dir = Path(\"outputs\")\n",
    "outputs_dir.mkdir(parents=True, exist_ok=True)\n",
    "\n",
    "# plot the configuration-space evolution\n",
    "plot_configuration_space_trajectory_following(\n",
    "    traj_ts,\n",
    "    sim_ts,\n",
    "    filepath=str(\n",
    "        outputs_dir / \"task_2a-3_configuration_space_trajectory_following.pdf\"\n",
    "    ),\n",
    ")"
   ]
  },
  {
   "cell_type": "code",
   "execution_count": null,
   "id": "66e13585",
   "metadata": {
    "deletable": false,
    "editable": false,
    "nbgrader": {
     "cell_type": "code",
     "checksum": "e01229dfb49a03dd664f5abd2d6fac28",
     "grade": false,
     "grade_id": "cell-59523b8231c27db0",
     "locked": true,
     "schema_version": 3,
     "solution": false,
     "task": false
    }
   },
   "outputs": [],
   "source": [
    "# plot the operational-space evolution\n",
    "plot_operational_space_trajectory_following(\n",
    "    traj_ts,\n",
    "    sim_ts,\n",
    "    filepath=str(outputs_dir / \"task_2a-3_operational_space_trajectory_following.pdf\"),\n",
    ")"
   ]
  },
  {
   "cell_type": "code",
   "execution_count": null,
   "id": "eef0a906",
   "metadata": {
    "deletable": false,
    "editable": false,
    "nbgrader": {
     "cell_type": "code",
     "checksum": "914d25f31c7f840ef8e295ed4da68f59",
     "grade": false,
     "grade_id": "cell-3414576f6ff34f97",
     "locked": true,
     "schema_version": 3,
     "solution": false,
     "task": false
    }
   },
   "outputs": [],
   "source": [
    "# plot the actuation sequence\n",
    "plot_actuation(sim_ts, filepath=str(outputs_dir / \"task_2a-3_actuation.pdf\"))"
   ]
  },
  {
   "cell_type": "code",
   "execution_count": null,
   "id": "7a9b3c7a",
   "metadata": {
    "deletable": false,
    "editable": false,
    "nbgrader": {
     "cell_type": "code",
     "checksum": "bede255e8bbc8aff6ac27184130e56d9",
     "grade": false,
     "grade_id": "cell-14798fd8a1c2f5e8",
     "locked": true,
     "schema_version": 3,
     "solution": false,
     "task": false
    }
   },
   "outputs": [],
   "source": [
    "if not AUTOGRADING:\n",
    "    ani = animate_robot(\n",
    "        ROBOT_PARAMS,\n",
    "        traj_ts=traj_ts,\n",
    "        sim_ts=sim_ts,\n",
    "        step_skip=5,\n",
    "        show=False,\n",
    "        filepath=str(outputs_dir / \"task_2a-3_controlled_robot.mp4\"),\n",
    "    )\n",
    "    display(HTML(ani.to_html5_video()))"
   ]
  },
  {
   "cell_type": "markdown",
   "id": "29c62187",
   "metadata": {
    "deletable": false,
    "editable": false,
    "nbgrader": {
     "cell_type": "markdown",
     "checksum": "44d9de0ddbaf53cbb2d31eabf7a095df",
     "grade": false,
     "grade_id": "cell-b347b6d61fb67477",
     "locked": true,
     "schema_version": 3,
     "solution": false,
     "task": false
    }
   },
   "source": [
    "## Removing the feedback controller (0.5p)\n",
    "\n",
    "Now, set the gains of the PD feedback controller all to zero (i.e. effectively deactivate the feedback controller) and initialize the robot at the first time-step perfectly on the trajectory (instead of offsetting by $(-0.1, -0.2)$ rad, as we usually do). Why is the controller not able to track the trajectory and why does the closed-loop system become unstable?\n",
    "\n",
    "**A:** Frictional effects are neglected in the control law.\n",
    "\n",
    "**B:** The time discretization causes the discretized system to drift-off the trajectory defined in the continous time domain.\n",
    "\n",
    "**C:** As soon as the double pendulum slightly deverts from the trajectory, there exists a mismatch between the dynamics compensated by the controller and the actual system behaviour. This mismatch then causes the system to drift-off even more.\n",
    "\n",
    "**D:** The stiffness of the joints is not compensated by the controller."
   ]
  },
  {
   "cell_type": "code",
   "execution_count": null,
   "id": "1ae08ef0",
   "metadata": {
    "deletable": false,
    "nbgrader": {
     "cell_type": "code",
     "checksum": "092a65ba66d757ed972550e429cf7b74",
     "grade": false,
     "grade_id": "cell-e6f2e6fb96e4b161",
     "locked": false,
     "schema_version": 3,
     "solution": true,
     "task": false
    }
   },
   "outputs": [],
   "source": [
    "# please state **all** correct answers (\"A\", \"B\", \"C\", or \"D\") into a list in the `answer_2` variable.\n",
    "answer_2 = []\n",
    "# YOUR CODE HERE\n",
    "raise NotImplementedError()"
   ]
  },
  {
   "cell_type": "code",
   "execution_count": null,
   "id": "11aacb52",
   "metadata": {
    "deletable": false,
    "editable": false,
    "nbgrader": {
     "cell_type": "code",
     "checksum": "9efb117d7854e3fe8b13915061a3fc72",
     "grade": true,
     "grade_id": "cell-bd0ce8f8ac5e29e7",
     "locked": true,
     "points": 0.5,
     "schema_version": 3,
     "solution": false,
     "task": false
    }
   },
   "outputs": [],
   "source": [
    "# DO NOT REMOVE OR MODIFY THIS CELL\n",
    "assert type(answer_2) == list\n",
    "for answer_2_element in answer_2:\n",
    "    assert answer_2_element in [\"A\", \"B\", \"C\", \"D\"], 'Please answer \"A\", \"B\", \"C\", \"D\"'\n"
   ]
  },
  {
   "cell_type": "code",
   "execution_count": null,
   "id": "a908da6f",
   "metadata": {},
   "outputs": [],
   "source": []
  }
 ],
 "metadata": {
  "kernelspec": {
   "display_name": "Python 3 (ipykernel)",
   "language": "python",
   "name": "python3"
  },
  "language_info": {
   "codemirror_mode": {
    "name": "ipython",
    "version": 3
   },
   "file_extension": ".py",
   "mimetype": "text/x-python",
   "name": "python",
   "nbconvert_exporter": "python",
   "pygments_lexer": "ipython3",
   "version": "3.10.9"
  }
 },
 "nbformat": 4,
 "nbformat_minor": 5
}
