{
 "cells": [
  {
   "cell_type": "markdown",
   "id": "ac408b5e",
   "metadata": {
    "deletable": false,
    "editable": false,
    "nbgrader": {
     "cell_type": "markdown",
     "checksum": "a96d02d6346fa7399cf6da0111ce0937",
     "grade": false,
     "grade_id": "cell-b00828259c8e42e8",
     "locked": true,
     "schema_version": 3,
     "solution": false,
     "task": false
    }
   },
   "source": [
    "# RO47019: Intelligent Control Systems Practical Assignment\n",
    "* Period: 2022-2023, Q3\n",
    "* Course homepage: https://brightspace.tudelft.nl/d2l/home/500969\n",
    "* Instructor: Cosimo Della Santina (C.DellaSantina@tudelft.nl)\n",
    "* Teaching assistant: Ruben Martin Rodriguez (R.MartinRodriguez@student.tudelft.nl)\n",
    "* (c) TU Delft, 2023\n",
    "\n",
    "Make sure you fill in any place that says `YOUR CODE HERE` or `YOUR ANSWER HERE`. Remove `raise NotImplementedError()` afterwards. Moreover, if you see an empty cell, please DO NOT delete it, instead run that cell as you would run all other cells. Please fill in your name(s) and other required details below:"
   ]
  },
  {
   "cell_type": "code",
   "execution_count": null,
   "id": "4f9e220c",
   "metadata": {},
   "outputs": [],
   "source": [
    "# Please fill in your names, student numbers, netID, and emails below.\n",
    "STUDENT_1_NAME = \"\"\n",
    "STUDENT_1_STUDENT_NUMBER = \"\"\n",
    "STUDENT_1_NETID = \"\"\n",
    "STUDENT_1_EMAIL = \"\""
   ]
  },
  {
   "cell_type": "code",
   "execution_count": null,
   "id": "8ba32571",
   "metadata": {
    "deletable": false,
    "editable": false,
    "nbgrader": {
     "cell_type": "code",
     "checksum": "042927213b84aa368aa3ea72caa4cb60",
     "grade": true,
     "grade_id": "cell-9f148ec62e0de49c",
     "locked": true,
     "points": 0,
     "schema_version": 3,
     "solution": false,
     "task": false
    }
   },
   "outputs": [],
   "source": [
    "# Note: this block is a check that you have filled in the above information.\n",
    "# It will throw an AssertionError until all fields are filled\n",
    "assert STUDENT_1_NAME != \"\"\n",
    "assert STUDENT_1_STUDENT_NUMBER != \"\"\n",
    "assert STUDENT_1_NETID != \"\"\n",
    "assert STUDENT_1_EMAIL != \"\""
   ]
  },
  {
   "cell_type": "markdown",
   "id": "af317a94",
   "metadata": {
    "deletable": false,
    "editable": false,
    "nbgrader": {
     "cell_type": "markdown",
     "checksum": "e76ef40fcc3f08a0484661497162a1a9",
     "grade": false,
     "grade_id": "cell-4ea391677951116c",
     "locked": true,
     "schema_version": 3,
     "solution": false,
     "task": false
    }
   },
   "source": [
    "### General announcements\n",
    "\n",
    "* Do *not* share your solutions, and do *not* copy solutions from others. By submitting your solutions, you claim that you alone are responsible for this code.\n",
    "\n",
    "* Do *not* email questions directly, since we want to provide everybody with the same information and avoid repeating the same answers. Instead, please post your questions regarding this assignment in the correct support forum on Brightspace, this way everybody can benefit from the response. If you do have a particular question that you want to ask directly, please use the scheduled Q&A hours to ask the TA.\n",
    "\n",
    "* There is a strict deadline for each assignment. Students are responsible to ensure that they have uploaded their work in time. So, please double check that your upload succeeded to the Brightspace and avoid any late penalties.\n",
    "\n",
    "* This [Jupyter notebook](https://jupyter.org/) uses `nbgrader` to help us with automated tests. `nbgrader` will make various cells in this notebook \"uneditable\" or \"unremovable\" and gives them a special id in the cell metadata. This way, when we run our checks, the system will check the existence of the cell ids and verify the number of points and which checks must be run. While there are ways that you can edit the metadata and work around the restrictions to delete or modify these special cells, you should not do that since then our nbgrader backend will not be able to parse your notebook and give you points for the assignment. You are free to add additional cells, but if you find a cell that you cannot modify or remove, please know that this is on purpose.\n",
    "\n",
    "* This notebook will have in various places a line that throws a `NotImplementedError` exception. These are locations where the assignment requires you to adapt the code! These lines are just there as a reminder for youthat you have not yet adapted that particular piece of code, especially when you execute all the cells. Once your solution code replaced these lines, it should accordingly *not* throw any exceptions anymore.\n",
    "\n",
    "Before you turn this problem in, make sure everything runs as expected. First, **restart the kernel** (in the menubar, select Kernel$\\rightarrow$Restart) and then **run all cells** (in the menubar, select Cell$\\rightarrow$Run All)."
   ]
  },
  {
   "cell_type": "code",
   "execution_count": null,
   "id": "3c956945",
   "metadata": {},
   "outputs": [],
   "source": []
  },
  {
   "cell_type": "markdown",
   "id": "387d2c60",
   "metadata": {
    "deletable": false,
    "editable": false,
    "nbgrader": {
     "cell_type": "markdown",
     "checksum": "25b455e6db42c942777306cf05dd6b8c",
     "grade": false,
     "grade_id": "cell-ed88010142fb94bb",
     "locked": true,
     "schema_version": 3,
     "solution": false,
     "task": false
    }
   },
   "source": [
    "# Task 2c.1 - Collect dataset (0p)\n",
    "\n",
    "**Author:** Maximilian Stölzle (M.W.Stolzle@tudelft.nl)\n",
    "\n",
    "Before we can learn the dynamics of the system, we need to collect a dataset. We do that my sampling evolutions of the double pendulum system. The final dataset will be saved in the path `datasets/dataset_double_pendulum.npz`. This notebook is not graded, but a well-distributed and sufficiently large dataset is a necessary pre-condition for successfully training the Lagrangian neural network in the following tasks."
   ]
  },
  {
   "cell_type": "code",
   "execution_count": null,
   "id": "35339f62",
   "metadata": {
    "deletable": false,
    "editable": false,
    "nbgrader": {
     "cell_type": "code",
     "checksum": "c823a6b056f469241acbf49f5be866d7",
     "grade": false,
     "grade_id": "cell-e33520fa3a4d3861",
     "locked": true,
     "schema_version": 3,
     "solution": false,
     "task": false
    }
   },
   "outputs": [],
   "source": [
    "# Reloads the python files outside of this notebook automatically\n",
    "%load_ext autoreload\n",
    "%autoreload 2\n",
    "\n",
    "# import all Python modules\n",
    "from distutils.util import strtobool\n",
    "from functools import partial\n",
    "from IPython.display import display, HTML  # For animations in the notebook\n",
    "from jax.config import config as jax_config\n",
    "\n",
    "jax_config.update(\"jax_platform_name\", \"cpu\")  # set default device to 'cpu'\n",
    "jax_config.update(\"jax_enable_x64\", True)  # double precision\n",
    "from jax import jit, lax, random\n",
    "from jax import numpy as jnp\n",
    "from matplotlib import rcParams\n",
    "import matplotlib.pyplot as plt\n",
    "import os\n",
    "from pathlib import Path\n",
    "from progressbar import progressbar\n",
    "from typing import Dict, Tuple\n",
    "\n",
    "from jax_double_pendulum.robot_parameters import ROBOT_PARAMS\n",
    "from jax_double_pendulum.robot_simulation import simulate_robot\n",
    "from jax_double_pendulum.visualization import animate_robot\n",
    "\n",
    "# define boolean to check if the notebook is run for the purposes of autograding\n",
    "AUTOGRADING = strtobool(os.environ.get(\"AUTOGRADING\", \"false\"))"
   ]
  },
  {
   "cell_type": "markdown",
   "id": "cf430ce9",
   "metadata": {
    "deletable": false,
    "editable": false,
    "nbgrader": {
     "cell_type": "markdown",
     "checksum": "cd2ae1a5c9fd0e98243fe10f1c5235e5",
     "grade": false,
     "grade_id": "cell-5696319cbbdd5544",
     "locked": true,
     "schema_version": 3,
     "solution": false,
     "task": false
    }
   },
   "source": [
    "## Sampling of system evolutions\n",
    "\n",
    "Please implement the function `sample_system_evolution`. It should include the following steps:\n",
    "\n",
    "1. Splitting the random keys as explained in the [JAX documentation](https://jax.readthedocs.io/en/latest/jax-101/05-random-numbers.html).\n",
    "\n",
    "2. Randomly sample the initial conditions for the simulation.\n",
    "\n",
    "3. Run the simulation for the timesteps specified in `t_ts`."
   ]
  },
  {
   "cell_type": "code",
   "execution_count": null,
   "id": "b275713c",
   "metadata": {
    "deletable": false,
    "nbgrader": {
     "cell_type": "code",
     "checksum": "1df650acc8149b5143644d68b8375097",
     "grade": false,
     "grade_id": "cell-90f54adadef4119e",
     "locked": false,
     "schema_version": 3,
     "solution": true,
     "task": false
    }
   },
   "outputs": [],
   "source": [
    "@jit\n",
    "def sample_system_evolution(\n",
    "    rng: random.KeyArray,\n",
    "    rp: Dict,\n",
    "    t_ts: jnp.ndarray,\n",
    "    max_th_d_0: jnp.ndarray,\n",
    "    max_tau_ts: jnp.ndarray,\n",
    ") -> Tuple[Dict[str, jnp.ndarray], random.KeyArray]:\n",
    "    \"\"\"\n",
    "    Samples a system evolution from the robot simulation.\n",
    "    Args:\n",
    "        rp: Dictionary with robot parameters\n",
    "        t_ts: time steps of the trajectory [s] of shape (num_time_steps, )\n",
    "        rng: PRNG key\n",
    "        max_th_d_0: array of shape (2, ) with maximum magnitude of initial link angular velocities\n",
    "        max_tau_ts: array of shape (N, 2) with maximum magnitude of torque applied to system\n",
    "    Returns:\n",
    "        sim_ts: Dictionary containing the time series of system states.\n",
    "        rng_updated: updated PRNG key\n",
    "    \"\"\"\n",
    "    # split the PRNG key into four new keys\n",
    "    # one of the new keys should be saved in the `rng_updated` variable and be returned\n",
    "    # the other three keys can be used for sampling random values\n",
    "    rng_updated, rng_subkey1, rng_subkey2, rng_subkey3 = None, None, None, None\n",
    "    # YOUR CODE HERE\n",
    "    raise NotImplementedError()\n",
    "\n",
    "    # randomly sample the initial conditions of the simulation\n",
    "    # the initial link angle `th_0`\n",
    "    # the initial link angular velocity `th_d_0`\n",
    "    # the torque sequence of shape (N, 2) applied to the system\n",
    "    th_0, th_d_0 = jnp.zeros((2,)), jnp.zeros((2,))\n",
    "    tau_ts = jnp.zeros((t_ts.shape[0], 2))\n",
    "    # YOUR CODE HERE\n",
    "    raise NotImplementedError()\n",
    "\n",
    "    # simulate the robot for the timestamps `t_ts`\n",
    "    sim_ts = None\n",
    "    # YOUR CODE HERE\n",
    "    raise NotImplementedError()\n",
    "\n",
    "    return sim_ts, rng_updated"
   ]
  },
  {
   "cell_type": "markdown",
   "id": "fcbbc6d8",
   "metadata": {
    "deletable": false,
    "editable": false,
    "nbgrader": {
     "cell_type": "markdown",
     "checksum": "be5f47b30355cc67ed8c7c6400d26a2d",
     "grade": false,
     "grade_id": "cell-113d54f8d20f1526",
     "locked": true,
     "schema_version": 3,
     "solution": false,
     "task": false
    }
   },
   "source": [
    "## Save simulation data into dataset\n",
    "\n",
    "The previous function has sampled system evolutions and saved them into `sim_ts`. Now, we need to post-process the simulation data to generate a dataset of the discrete-time system states. This namely includes the link angles $\\theta(k) \\in \\mathbb{R}^2$ and link velocities $\\dot{\\theta}(k) \\in \\mathbb{R}^2$ at the current time-step $k$ and the corresponding states at the next time-step $\\theta(k+1)$ and $\\dot{\\theta}(k+1)$. It also includes the torques $\\tau(k)$ applied to the system."
   ]
  },
  {
   "cell_type": "code",
   "execution_count": null,
   "id": "36bf19a9",
   "metadata": {
    "deletable": false,
    "nbgrader": {
     "cell_type": "code",
     "checksum": "542a96cd27f49b43ad130c2f4b05d8ea",
     "grade": false,
     "grade_id": "cell-205eb25dd5a49551",
     "locked": false,
     "schema_version": 3,
     "solution": true,
     "task": false
    }
   },
   "outputs": [],
   "source": [
    "@jit\n",
    "def save_sim_data_to_dataset(\n",
    "    dataset: Dict[str, jnp.ndarray], sim_idx: int, sim_ts: Dict[str, jnp.ndarray]\n",
    ") -> Dict[str, jnp.ndarray]:\n",
    "    \"\"\"\n",
    "    Saves the data of one simulation to the dataset.\n",
    "    Args:\n",
    "        dataset: Dictionary of arrays containing the dataset.\n",
    "        sim_idx: Index of the simulation.\n",
    "        sim_ts: Dictionary containing the time series of system states for the simulation\n",
    "\n",
    "    Returns:\n",
    "        dataset: Dictionary of arrays containing the dataset (updated).\n",
    "    \"\"\"\n",
    "    # number of timesteps\n",
    "    N = sim_ts[\"t_ts\"].shape[0]\n",
    "\n",
    "    # the starting index in dataset we save the data to\n",
    "    start_idx = sim_idx * (N - 1)\n",
    "\n",
    "    # please define the arrays we can save into the dataset\n",
    "    # store the applied torques as array of shape (N - 1, 2)\n",
    "    tau_ss = jnp.zeros((N - 1, sim_ts[\"tau_ts\"].shape[-1]))\n",
    "    # store the current link angles as array of shape (N - 1, 2)\n",
    "    th_curr_ss = jnp.zeros((N - 1, sim_ts[\"th_ts\"].shape[-1]))\n",
    "    # store the current link angular velocities as array of shape (N - 1, 2)\n",
    "    th_d_curr_ss = jnp.zeros((N - 1, sim_ts[\"th_d_ts\"].shape[-1]))\n",
    "    # store the next link angles as array of shape (N - 1, 2)\n",
    "    th_next_ss = jnp.zeros((N - 1, sim_ts[\"th_ts\"].shape[-1]))\n",
    "    # store the next link angular velocities as array of shape (N - 1, 2)\n",
    "    th_d_next_ss = jnp.zeros((N - 1, sim_ts[\"th_d_ts\"].shape[-1]))\n",
    "    # YOUR CODE HERE\n",
    "    raise NotImplementedError()\n",
    "\n",
    "    dataset[\"tau_ss\"] = lax.dynamic_update_slice(\n",
    "        dataset[\"tau_ss\"], tau_ss, (start_idx, 0)\n",
    "    )\n",
    "    dataset[\"th_curr_ss\"] = lax.dynamic_update_slice(\n",
    "        dataset[\"th_curr_ss\"], th_curr_ss, (start_idx, 0)\n",
    "    )\n",
    "    dataset[\"th_d_curr_ss\"] = lax.dynamic_update_slice(\n",
    "        dataset[\"th_d_curr_ss\"], th_d_curr_ss, (start_idx, 0)\n",
    "    )\n",
    "    dataset[\"th_next_ss\"] = lax.dynamic_update_slice(\n",
    "        dataset[\"th_next_ss\"], th_next_ss, (start_idx, 0)\n",
    "    )\n",
    "    dataset[\"th_d_next_ss\"] = lax.dynamic_update_slice(\n",
    "        dataset[\"th_d_next_ss\"], th_d_next_ss, (start_idx, 0)\n",
    "    )\n",
    "\n",
    "    return dataset"
   ]
  },
  {
   "cell_type": "markdown",
   "id": "b6bf16ce",
   "metadata": {
    "deletable": false,
    "editable": false,
    "nbgrader": {
     "cell_type": "markdown",
     "checksum": "f2369aae2816e1455d0b8f69aa157aa9",
     "grade": false,
     "grade_id": "cell-c519cb46d72b3e07",
     "locked": true,
     "schema_version": 3,
     "solution": false,
     "task": false
    }
   },
   "source": [
    "## Execute the dataset collection\n",
    "\n",
    "Below, you need to choose the parameters for the dataset collection. This specifically includes:\n",
    "\n",
    "- The number of simulations you want to run `num_simulations`\n",
    "- The duration of each simulation `sim_duration`\n",
    "- And finally the maximum magnitude of the initial link angular velocity, which is used during the sampling of the initial conditions in `sample_system_evolution()`."
   ]
  },
  {
   "cell_type": "code",
   "execution_count": null,
   "id": "569095cc",
   "metadata": {
    "deletable": false,
    "nbgrader": {
     "cell_type": "code",
     "checksum": "975a20a71ec8bd08bc726fe20ad35b93",
     "grade": false,
     "grade_id": "cell-02bec45aed885d33",
     "locked": false,
     "schema_version": 3,
     "solution": true,
     "task": false
    }
   },
   "outputs": [],
   "source": [
    "# initialize random number generator with seed = 0\n",
    "rng = random.PRNGKey(seed=0)\n",
    "\n",
    "# simulation parameters\n",
    "# please carefully choose the parameters for the dataset collection\n",
    "# In particular, consider adjusting `num_simulations`, `sim_duration`, `max_th_d_0`, and `max_tau_ts`\n",
    "\n",
    "# time step [s]. Helps to determine the number of samples in advance.\n",
    "sim_dt = 1e-2\n",
    "# number of times we call the `sample_system_evolution` method\n",
    "num_simulations = 10\n",
    "# duration of each simulation [s]. Helps to determine the number of samples in advance.\n",
    "sim_duration = 10.0\n",
    "# YOUR CODE HERE\n",
    "raise NotImplementedError()\n",
    "\n",
    "# define time steps\n",
    "t_ts = sim_dt * jnp.arange(int(sim_duration / sim_dt))\n",
    "\n",
    "# maximum magnitude of initial link angular velocity [rad / s]. Used for sampling initial condition\n",
    "max_th_d_0 = jnp.pi * jnp.ones((2,))\n",
    "# maximum magnitude of torque [Nm] applied to system.\n",
    "max_tau_ts = 1 * jnp.ones((t_ts.shape[0], 2))\n",
    "# YOUR CODE HERE\n",
    "raise NotImplementedError()\n",
    "\n",
    "# option to animate the robot\n",
    "ANIMATE_ROBOT = False"
   ]
  },
  {
   "cell_type": "code",
   "execution_count": null,
   "id": "38e7e2b2",
   "metadata": {
    "deletable": false,
    "editable": false,
    "nbgrader": {
     "cell_type": "code",
     "checksum": "e5dafe3f3b129474ef22df31611bc6b7",
     "grade": false,
     "grade_id": "cell-2d0e61e418cc6094",
     "locked": true,
     "schema_version": 3,
     "solution": false,
     "task": false
    }
   },
   "outputs": [],
   "source": [
    "# folder to save plots to\n",
    "outputs_dir = Path(\"outputs\")\n",
    "outputs_dir.mkdir(exist_ok=True, parents=True)\n",
    "\n",
    "# folder to save the dataset to\n",
    "dataset_folder = Path(\"datasets\")\n",
    "dataset_folder.mkdir(exist_ok=True, parents=True)\n",
    "\n",
    "# determine the total number of samples we expect to collect\n",
    "num_dataset_samples = num_simulations * (t_ts.shape[0] - 1)\n",
    "\n",
    "print(\n",
    "    f\"Collecting dataset by running {num_simulations} simulations each for a duration of {sim_duration}s\"\n",
    "    f\"generating in total {num_dataset_samples} samples ...\"\n",
    ")\n",
    "\n",
    "# initialize empty arrays for storing the dataset samples\n",
    "dataset = {\n",
    "    \"dt_ss\": sim_dt * jnp.ones(num_dataset_samples),\n",
    "    \"tau_ss\": jnp.zeros((num_dataset_samples, 2)),\n",
    "    \"th_curr_ss\": jnp.zeros((num_dataset_samples, 2)),\n",
    "    \"th_d_curr_ss\": jnp.zeros((num_dataset_samples, 2)),\n",
    "    \"th_next_ss\": jnp.zeros((num_dataset_samples, 2)),\n",
    "    \"th_d_next_ss\": jnp.zeros((num_dataset_samples, 2)),\n",
    "}"
   ]
  },
  {
   "cell_type": "code",
   "execution_count": null,
   "id": "2d51da42",
   "metadata": {
    "deletable": false,
    "nbgrader": {
     "cell_type": "code",
     "checksum": "6ae5fb5cb7533598708c0ff297eaf42e",
     "grade": false,
     "grade_id": "cell-8c33d48063ee08f8",
     "locked": false,
     "schema_version": 3,
     "solution": true,
     "task": false
    }
   },
   "outputs": [],
   "source": [
    "for sim_idx in progressbar(range(num_simulations)):\n",
    "    # sample the system evolution and update the PRNG key\n",
    "    # save the simulation data to the `sim_ts` variable and the new PRNG key to the `rng` variable\n",
    "    # YOUR CODE HERE\n",
    "    raise NotImplementedError()\n",
    "\n",
    "    # save the simulation data from the last simulation to the `dataset` variable\n",
    "    # YOUR CODE HERE\n",
    "    raise NotImplementedError()\n",
    "\n",
    "    if ANIMATE_ROBOT:\n",
    "        animate_robot(\n",
    "            ROBOT_PARAMS,\n",
    "            sim_ts=sim_ts,\n",
    "            step_skip=5,\n",
    "            filepath=str(\n",
    "                outputs_dir / f\"task_2c-1_training_set_animation_{sim_idx}.mp4\"\n",
    "            ),\n",
    "        )"
   ]
  },
  {
   "cell_type": "markdown",
   "id": "fe9d211e",
   "metadata": {
    "deletable": false,
    "editable": false,
    "nbgrader": {
     "cell_type": "markdown",
     "checksum": "05111a1cb2e80125c59cc59618c6163c",
     "grade": false,
     "grade_id": "cell-3cb09c5357867320",
     "locked": true,
     "schema_version": 3,
     "solution": false,
     "task": false
    }
   },
   "source": [
    "## Visualizing the dataset distribution\n",
    "\n",
    "We provide you with a function to plot the dataset distribution, which plots $\\theta$ as the angles, $\\dot{\\theta}$ on the radial axis. The coloring indicates the angular acceleration $\\ddot{\\theta}$ of the links. How does a well-balanced distribution look like?"
   ]
  },
  {
   "cell_type": "code",
   "execution_count": null,
   "id": "16ac9511",
   "metadata": {
    "deletable": false,
    "editable": false,
    "nbgrader": {
     "cell_type": "code",
     "checksum": "1a87568d1a61608e6379818727b950bb",
     "grade": false,
     "grade_id": "cell-c3f6a3a8dc8b6e99",
     "locked": true,
     "schema_version": 3,
     "solution": false,
     "task": false
    }
   },
   "outputs": [],
   "source": [
    "from lnn_analysis import plot_training_set_distribution\n",
    "\n",
    "# save the dataset in problem_2/datasets/dataset_double_pendulum_dynamics.npz\n",
    "jnp.savez(file=str(dataset_folder / \"dataset_double_pendulum_dynamics.npz\"), **dataset)\n",
    "\n",
    "# we plot the distribution of the dataset\n",
    "plot_training_set_distribution(\n",
    "    sim_dt,\n",
    "    dataset,\n",
    "    filepath=str(outputs_dir / \"task_2c-1_dataset_distribution.pdf\"),\n",
    ")"
   ]
  },
  {
   "cell_type": "code",
   "execution_count": null,
   "id": "e2abca6b",
   "metadata": {},
   "outputs": [],
   "source": []
  }
 ],
 "metadata": {
  "kernelspec": {
   "display_name": "Python 3 (ipykernel)",
   "language": "python",
   "name": "python3"
  },
  "language_info": {
   "codemirror_mode": {
    "name": "ipython",
    "version": 3
   },
   "file_extension": ".py",
   "mimetype": "text/x-python",
   "name": "python",
   "nbconvert_exporter": "python",
   "pygments_lexer": "ipython3",
   "version": "3.10.9"
  }
 },
 "nbformat": 4,
 "nbformat_minor": 5
}
