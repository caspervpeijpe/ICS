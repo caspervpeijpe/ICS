{
 "cells": [
  {
   "cell_type": "markdown",
   "id": "ac408b5e",
   "metadata": {
    "deletable": false,
    "editable": false,
    "nbgrader": {
     "cell_type": "markdown",
     "checksum": "a96d02d6346fa7399cf6da0111ce0937",
     "grade": false,
     "grade_id": "cell-b00828259c8e42e8",
     "locked": true,
     "schema_version": 3,
     "solution": false,
     "task": false
    }
   },
   "source": [
    "# RO47019: Intelligent Control Systems Practical Assignment\n",
    "* Period: 2022-2023, Q3\n",
    "* Course homepage: https://brightspace.tudelft.nl/d2l/home/500969\n",
    "* Instructor: Cosimo Della Santina (C.DellaSantina@tudelft.nl)\n",
    "* Teaching assistant: Ruben Martin Rodriguez (R.MartinRodriguez@student.tudelft.nl)\n",
    "* (c) TU Delft, 2023\n",
    "\n",
    "Make sure you fill in any place that says `YOUR CODE HERE` or `YOUR ANSWER HERE`. Remove `raise NotImplementedError()` afterwards. Moreover, if you see an empty cell, please DO NOT delete it, instead run that cell as you would run all other cells. Please fill in your name(s) and other required details below:"
   ]
  },
  {
   "cell_type": "code",
   "execution_count": null,
   "id": "4f9e220c",
   "metadata": {},
   "outputs": [],
   "source": [
    "# Please fill in your names, student numbers, netID, and emails below.\n",
    "STUDENT_1_NAME = \"\"\n",
    "STUDENT_1_STUDENT_NUMBER = \"\"\n",
    "STUDENT_1_NETID = \"\"\n",
    "STUDENT_1_EMAIL = \"\""
   ]
  },
  {
   "cell_type": "code",
   "execution_count": null,
   "id": "8ba32571",
   "metadata": {
    "deletable": false,
    "editable": false,
    "nbgrader": {
     "cell_type": "code",
     "checksum": "042927213b84aa368aa3ea72caa4cb60",
     "grade": true,
     "grade_id": "cell-9f148ec62e0de49c",
     "locked": true,
     "points": 0,
     "schema_version": 3,
     "solution": false,
     "task": false
    }
   },
   "outputs": [],
   "source": [
    "# Note: this block is a check that you have filled in the above information.\n",
    "# It will throw an AssertionError until all fields are filled\n",
    "assert STUDENT_1_NAME != \"\"\n",
    "assert STUDENT_1_STUDENT_NUMBER != \"\"\n",
    "assert STUDENT_1_NETID != \"\"\n",
    "assert STUDENT_1_EMAIL != \"\""
   ]
  },
  {
   "cell_type": "markdown",
   "id": "af317a94",
   "metadata": {
    "deletable": false,
    "editable": false,
    "nbgrader": {
     "cell_type": "markdown",
     "checksum": "e76ef40fcc3f08a0484661497162a1a9",
     "grade": false,
     "grade_id": "cell-4ea391677951116c",
     "locked": true,
     "schema_version": 3,
     "solution": false,
     "task": false
    }
   },
   "source": [
    "### General announcements\n",
    "\n",
    "* Do *not* share your solutions, and do *not* copy solutions from others. By submitting your solutions, you claim that you alone are responsible for this code.\n",
    "\n",
    "* Do *not* email questions directly, since we want to provide everybody with the same information and avoid repeating the same answers. Instead, please post your questions regarding this assignment in the correct support forum on Brightspace, this way everybody can benefit from the response. If you do have a particular question that you want to ask directly, please use the scheduled Q&A hours to ask the TA.\n",
    "\n",
    "* There is a strict deadline for each assignment. Students are responsible to ensure that they have uploaded their work in time. So, please double check that your upload succeeded to the Brightspace and avoid any late penalties.\n",
    "\n",
    "* This [Jupyter notebook](https://jupyter.org/) uses `nbgrader` to help us with automated tests. `nbgrader` will make various cells in this notebook \"uneditable\" or \"unremovable\" and gives them a special id in the cell metadata. This way, when we run our checks, the system will check the existence of the cell ids and verify the number of points and which checks must be run. While there are ways that you can edit the metadata and work around the restrictions to delete or modify these special cells, you should not do that since then our nbgrader backend will not be able to parse your notebook and give you points for the assignment. You are free to add additional cells, but if you find a cell that you cannot modify or remove, please know that this is on purpose.\n",
    "\n",
    "* This notebook will have in various places a line that throws a `NotImplementedError` exception. These are locations where the assignment requires you to adapt the code! These lines are just there as a reminder for youthat you have not yet adapted that particular piece of code, especially when you execute all the cells. Once your solution code replaced these lines, it should accordingly *not* throw any exceptions anymore.\n",
    "\n",
    "Before you turn this problem in, make sure everything runs as expected. First, **restart the kernel** (in the menubar, select Kernel$\\rightarrow$Restart) and then **run all cells** (in the menubar, select Cell$\\rightarrow$Run All)."
   ]
  },
  {
   "cell_type": "code",
   "execution_count": null,
   "id": "3c956945",
   "metadata": {},
   "outputs": [],
   "source": []
  },
  {
   "cell_type": "markdown",
   "id": "387d2c60",
   "metadata": {
    "deletable": false,
    "editable": false,
    "nbgrader": {
     "cell_type": "markdown",
     "checksum": "e0a7deebbca746b2889edd1138615d91",
     "grade": false,
     "grade_id": "cell-ed88010142fb94bb",
     "locked": true,
     "schema_version": 3,
     "solution": false,
     "task": false
    }
   },
   "source": [
    "# Task 2c.5 - Control with the learned dynamics (15p)\n",
    "\n",
    "**Author:** Maximilian Stölzle (M.W.Stolzle@tudelft.nl)\n",
    "\n",
    "Now, we can finally use the learned model for control. Namely, please simulate the closed-loop system with a PD+ controller, which is / should be implemented in the `ctrl_ff_pd_plus` function in the `controllers.ipynb` notebook. This is the same control strategy as in Task 2a.4, but now instead of the analytical, the learned dynamical matrices shall be used in the control law. With feedback gains of $k_\\mathrm{p} = \\mathrm{diag}(500, 500)$, $k_\\mathrm{d} = \\mathrm{diag}(50, 50)$, your controller should achieve a better performance than a pure PD feedback controller with the same gains.\n",
    "\n",
    "If you correctly implement this task, you will receive a baseline of 3 points. The remaining 12 points are distributed based on the control performance. You will receive full points for this task if the Euclidean norm of the RMSE of the end-effector position between the reference trajectory and the actual robot evolution is **below** 0.06 m. If the error is between 0.06 m and 0.68 m, your grade will be linarly scaled with the error. However, if the error is larger than 0.68 m, you will not receive any credits for the control performance."
   ]
  },
  {
   "cell_type": "code",
   "execution_count": null,
   "id": "35339f62",
   "metadata": {
    "deletable": false,
    "editable": false,
    "nbgrader": {
     "cell_type": "code",
     "checksum": "91c12524e28816e0ea4f3d46518caae7",
     "grade": false,
     "grade_id": "cell-e33520fa3a4d3861",
     "locked": true,
     "schema_version": 3,
     "solution": false,
     "task": false
    }
   },
   "outputs": [],
   "source": [
    "# Reloads the python files outside of this notebook automatically\n",
    "%load_ext autoreload\n",
    "%autoreload 2\n",
    "\n",
    "# import all Python modules\n",
    "import dill\n",
    "from distutils.util import strtobool\n",
    "from functools import partial\n",
    "from IPython.display import display, HTML  # For animations in the notebook\n",
    "from jax.config import config as jax_config\n",
    "\n",
    "jax_config.update(\"jax_platform_name\", \"cpu\")  # set default device to 'cpu'\n",
    "jax_config.update(\"jax_enable_x64\", True)  # double precision\n",
    "from jax import jit, lax, random\n",
    "from jax import numpy as jnp\n",
    "from matplotlib import rcParams\n",
    "import matplotlib.pyplot as plt\n",
    "import os\n",
    "from pathlib import Path\n",
    "from progressbar import progressbar\n",
    "from typing import Dict, Tuple\n",
    "\n",
    "from jax_double_pendulum.analysis import *\n",
    "from jax_double_pendulum.motion_planning import (\n",
    "    generate_ellipse_trajectory,\n",
    "    ELLIPSE_PARAMS,\n",
    ")\n",
    "from jax_double_pendulum.robot_parameters import ROBOT_PARAMS\n",
    "from jax_double_pendulum.robot_simulation import simulate_robot\n",
    "from jax_double_pendulum.visualization import animate_robot\n",
    "\n",
    "# define boolean to check if the notebook is run for the purposes of autograding\n",
    "AUTOGRADING = strtobool(os.environ.get(\"AUTOGRADING\", \"false\"))"
   ]
  },
  {
   "cell_type": "code",
   "execution_count": null,
   "id": "fb6caf69",
   "metadata": {
    "deletable": false,
    "editable": false,
    "nbgrader": {
     "cell_type": "code",
     "checksum": "835ebe81f35917bc07be69441942af2b",
     "grade": false,
     "grade_id": "cell-7fd75e6a560076ab",
     "locked": true,
     "schema_version": 3,
     "solution": false,
     "task": false
    }
   },
   "outputs": [],
   "source": [
    "# simulation parameters\n",
    "sim_duration = 10.0  # [s]\n",
    "sim_dt = 1e-2  # [s]\n",
    "\n",
    "# controller parameters\n",
    "# PD feedback gains\n",
    "kp = 500 * jnp.eye(2)  # [Nm/rad]\n",
    "kd = 50 * jnp.eye(2)  # [Nm s/rad]\n",
    "\n",
    "# define time steps\n",
    "t_ts = sim_dt * jnp.arange(int(sim_duration / sim_dt))\n",
    "\n",
    "# define folder where to save animations and plots\n",
    "outputs_dir = Path(\"outputs\")\n",
    "outputs_dir.mkdir(parents=True, exist_ok=True)\n",
    "\n",
    "# generate ellipse trajectory\n",
    "traj_ts = generate_ellipse_trajectory(\n",
    "    rp=ROBOT_PARAMS,\n",
    "    t_ts=t_ts,\n",
    "    **ELLIPSE_PARAMS,\n",
    ")\n",
    "\n",
    "# specify the initial link angles\n",
    "th_0 = traj_ts[\"th_ts\"][0] - jnp.array([0.1, 0.2])"
   ]
  },
  {
   "cell_type": "markdown",
   "id": "5bea0d56",
   "metadata": {
    "deletable": false,
    "editable": false,
    "nbgrader": {
     "cell_type": "markdown",
     "checksum": "6c07686faced3f82ad054e493a0d4492",
     "grade": false,
     "grade_id": "cell-e7e60b596cbe1bb2",
     "locked": true,
     "schema_version": 3,
     "solution": false,
     "task": false
    }
   },
   "source": [
    "Please implement a closed-loop simulation below, which uses a PD+ controller for trajectory tracking. The controller is **not** allowed to use any information from the nominal robot model, but rather needs to use the dynamical matrices generated by the Lagrangian neural network."
   ]
  },
  {
   "cell_type": "code",
   "execution_count": null,
   "id": "59cb8860",
   "metadata": {
    "deletable": false,
    "nbgrader": {
     "cell_type": "code",
     "checksum": "795791e82b72215316c436f50b6ebc14",
     "grade": false,
     "grade_id": "cell-b6cc06ab3ec29617",
     "locked": false,
     "schema_version": 3,
     "solution": true,
     "task": false
    }
   },
   "outputs": [],
   "source": [
    "# load the save neural network params\n",
    "statedict_path = str(Path(\"statedicts\") / \"task_2c_lagrangian_nn_params.pkl\")\n",
    "with open(statedict_path, \"rb\") as f:\n",
    "    nn_params = dill.load(f)\n",
    "\n",
    "# import the lagrangian neural network dynamical matrices function\n",
    "from ipynb.fs.full.lnn import dynamical_matrices as lnn_dynamical_matrices\n",
    "\n",
    "# use partial to make the `lnn_dynamical_matrices_fn` conform to the interface\n",
    "#   M, C, G = lnn_dynamical_matrices_fn(th, th_d)\n",
    "lnn_dynamical_matrices_fn = None\n",
    "# YOUR CODE HERE\n",
    "raise NotImplementedError()\n",
    "\n",
    "# import the PD feedback and the feed-forward term of the PD+ controller from controllers.ipynb\n",
    "from ipynb.fs.full.controllers import ctrl_fb_pd, ctrl_ff_pd_plus\n",
    "\n",
    "# Simulate the closed-loop system with the PD+ controller.\n",
    "# The controller is only allowed to access the dynamical matrices provided by the Lagrangian neural network.\n",
    "# Finally, save the simulation data to the `sim_ts` variable.\n",
    "sim_ts = None\n",
    "# YOUR CODE HERE\n",
    "raise NotImplementedError()\n",
    "\n",
    "rmse_th, rmse_th_d, rmse_th_dd = compute_configuration_space_rmse(traj_ts, sim_ts)\n",
    "rmse_x, rmse_x_d, rmse_x_dd = compute_operational_space_rmse(traj_ts, sim_ts)\n",
    "with jnp.printoptions(precision=3):\n",
    "    print(\n",
    "        \"RMSE theta:\",\n",
    "        rmse_th,\n",
    "        \"rad, RMSE theta_d:\",\n",
    "        rmse_th_d,\n",
    "        \"rad/s, RMSE theta_dd:\",\n",
    "        rmse_th_dd,\n",
    "        \"rad/s^2\",\n",
    "    )\n",
    "    print(\n",
    "        \"RMSE x:\",\n",
    "        f\"{jnp.linalg.norm(rmse_x):.4f}\",\n",
    "        \"m, RMSE x_d:\",\n",
    "        f\"{jnp.linalg.norm(rmse_x_d):.3f}\",\n",
    "        \"m/s, RMSE x_dd:\",\n",
    "        f\"{jnp.linalg.norm(rmse_x_dd):.2f}\",\n",
    "        \"m/s^2\",\n",
    "    )"
   ]
  },
  {
   "cell_type": "code",
   "execution_count": null,
   "id": "3b60b272",
   "metadata": {
    "deletable": false,
    "editable": false,
    "nbgrader": {
     "cell_type": "code",
     "checksum": "4d5f529570b05b7b463273eb0ef83169",
     "grade": true,
     "grade_id": "cell-5ee027e748985949",
     "locked": true,
     "points": 15,
     "schema_version": 3,
     "solution": false,
     "task": false
    }
   },
   "outputs": [],
   "source": [
    "# DO NOT REMOVE OR MODIFY THIS CELL\n",
    "\n",
    "rmse_th, rmse_th_d, rmse_th_dd = compute_configuration_space_rmse(traj_ts, sim_ts)\n",
    "rmse_x, rmse_x_d, rmse_x_dd = compute_operational_space_rmse(traj_ts, sim_ts)\n",
    "\n",
    "grader_max_impl_points = 3  # points for a correct implementation\n",
    "grader_max_perf_points = 12  # points for a good control performance\n",
    "\n",
    "rmse_x_norm = jnp.linalg.norm(rmse_x)  # achieved RMSE in operational space\n",
    "rmse_x_lb = 0.06  # m --> this will result in the full grade\n",
    "rmse_x_ub = 0.68  # m --> this will result in zero points for the control performance\n",
    "\n",
    "grader_perf_points = grader_max_perf_points * (\n",
    "    (1 - (rmse_x_norm - rmse_x_lb) / (rmse_x_ub - rmse_x_lb))\n",
    ")\n",
    "grader_perf_points = jnp.clip(grader_perf_points, 0, grader_max_perf_points).item()\n",
    "\n",
    "grader_points = grader_max_impl_points + grader_perf_points\n",
    "\n",
    "print(\n",
    "    f\"If you submit the assignment as it is, you will receive {grader_points} points.\"\n",
    ")\n",
    "\n",
    "\n",
    "grader_points"
   ]
  },
  {
   "cell_type": "code",
   "execution_count": null,
   "id": "164100f7",
   "metadata": {
    "deletable": false,
    "editable": false,
    "nbgrader": {
     "cell_type": "code",
     "checksum": "4dbc66188d3f87aaaf855c4a8ca744a4",
     "grade": false,
     "grade_id": "cell-f7f130c5ed183f5c",
     "locked": true,
     "schema_version": 3,
     "solution": false,
     "task": false
    }
   },
   "outputs": [],
   "source": [
    "# plot the configuration-space evolution\n",
    "plot_configuration_space_trajectory_following(\n",
    "    traj_ts,\n",
    "    sim_ts,\n",
    "    filepath=str(\n",
    "        outputs_dir / \"task_2c-5_configuration_space_trajectory_following.pdf\"\n",
    "    ),\n",
    ")"
   ]
  },
  {
   "cell_type": "code",
   "execution_count": null,
   "id": "ee1b5b74",
   "metadata": {
    "deletable": false,
    "editable": false,
    "nbgrader": {
     "cell_type": "code",
     "checksum": "aa2ac6a64606cc240060c8e929e58152",
     "grade": false,
     "grade_id": "cell-4c0c21eed730ad4b",
     "locked": true,
     "schema_version": 3,
     "solution": false,
     "task": false
    }
   },
   "outputs": [],
   "source": [
    "# plot the operational-space evolution\n",
    "plot_operational_space_trajectory_following(\n",
    "    traj_ts,\n",
    "    sim_ts,\n",
    "    filepath=str(outputs_dir / \"task_2c-5_operational_space_trajectory_following.pdf\"),\n",
    ")"
   ]
  },
  {
   "cell_type": "code",
   "execution_count": null,
   "id": "e5005d23",
   "metadata": {
    "deletable": false,
    "editable": false,
    "nbgrader": {
     "cell_type": "code",
     "checksum": "1001a1c2bbea7b47e2e2cc793f574560",
     "grade": false,
     "grade_id": "cell-2e431ae6759bb2b4",
     "locked": true,
     "schema_version": 3,
     "solution": false,
     "task": false
    }
   },
   "outputs": [],
   "source": [
    "# plot the actuation throughout the evolution\n",
    "plot_actuation(sim_ts, filepath=str(outputs_dir / \"task_2c-5_actuation.pdf\"))"
   ]
  },
  {
   "cell_type": "code",
   "execution_count": null,
   "id": "27b86de4",
   "metadata": {
    "deletable": false,
    "editable": false,
    "nbgrader": {
     "cell_type": "code",
     "checksum": "f343d7e80f99c4ebfd589bd5530ae842",
     "grade": false,
     "grade_id": "cell-933cc90f06ee5287",
     "locked": true,
     "schema_version": 3,
     "solution": false,
     "task": false
    }
   },
   "outputs": [],
   "source": [
    "# animate this simulation\n",
    "if not AUTOGRADING:\n",
    "    ani = animate_robot(\n",
    "        rp=ROBOT_PARAMS,\n",
    "        traj_ts=traj_ts,\n",
    "        sim_ts=sim_ts,\n",
    "        step_skip=5,\n",
    "        show=False,\n",
    "        filepath=str(outputs_dir / \"task_2c-5_controlled_robot.mp4\"),\n",
    "    )\n",
    "    display(HTML(ani.to_html5_video()))"
   ]
  },
  {
   "cell_type": "code",
   "execution_count": null,
   "id": "11e696da",
   "metadata": {},
   "outputs": [],
   "source": []
  }
 ],
 "metadata": {
  "kernelspec": {
   "display_name": "Python 3 (ipykernel)",
   "language": "python",
   "name": "python3"
  },
  "language_info": {
   "codemirror_mode": {
    "name": "ipython",
    "version": 3
   },
   "file_extension": ".py",
   "mimetype": "text/x-python",
   "name": "python",
   "nbconvert_exporter": "python",
   "pygments_lexer": "ipython3",
   "version": "3.10.9"
  }
 },
 "nbformat": 4,
 "nbformat_minor": 5
}
