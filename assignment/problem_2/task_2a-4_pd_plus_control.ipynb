{
 "cells": [
  {
   "cell_type": "markdown",
   "id": "ac408b5e",
   "metadata": {
    "deletable": false,
    "editable": false,
    "nbgrader": {
     "cell_type": "markdown",
     "checksum": "a96d02d6346fa7399cf6da0111ce0937",
     "grade": false,
     "grade_id": "cell-b00828259c8e42e8",
     "locked": true,
     "schema_version": 3,
     "solution": false,
     "task": false
    }
   },
   "source": [
    "# RO47019: Intelligent Control Systems Practical Assignment\n",
    "* Period: 2022-2023, Q3\n",
    "* Course homepage: https://brightspace.tudelft.nl/d2l/home/500969\n",
    "* Instructor: Cosimo Della Santina (C.DellaSantina@tudelft.nl)\n",
    "* Teaching assistant: Ruben Martin Rodriguez (R.MartinRodriguez@student.tudelft.nl)\n",
    "* (c) TU Delft, 2023\n",
    "\n",
    "Make sure you fill in any place that says `YOUR CODE HERE` or `YOUR ANSWER HERE`. Remove `raise NotImplementedError()` afterwards. Moreover, if you see an empty cell, please DO NOT delete it, instead run that cell as you would run all other cells. Please fill in your name(s) and other required details below:"
   ]
  },
  {
   "cell_type": "code",
   "execution_count": null,
   "id": "4f9e220c",
   "metadata": {},
   "outputs": [],
   "source": [
    "# Please fill in your names, student numbers, netID, and emails below.\n",
    "STUDENT_1_NAME = \"\"\n",
    "STUDENT_1_STUDENT_NUMBER = \"\"\n",
    "STUDENT_1_NETID = \"\"\n",
    "STUDENT_1_EMAIL = \"\""
   ]
  },
  {
   "cell_type": "code",
   "execution_count": null,
   "id": "8ba32571",
   "metadata": {
    "deletable": false,
    "editable": false,
    "nbgrader": {
     "cell_type": "code",
     "checksum": "042927213b84aa368aa3ea72caa4cb60",
     "grade": true,
     "grade_id": "cell-9f148ec62e0de49c",
     "locked": true,
     "points": 0,
     "schema_version": 3,
     "solution": false,
     "task": false
    }
   },
   "outputs": [],
   "source": [
    "# Note: this block is a check that you have filled in the above information.\n",
    "# It will throw an AssertionError until all fields are filled\n",
    "assert STUDENT_1_NAME != \"\"\n",
    "assert STUDENT_1_STUDENT_NUMBER != \"\"\n",
    "assert STUDENT_1_NETID != \"\"\n",
    "assert STUDENT_1_EMAIL != \"\""
   ]
  },
  {
   "cell_type": "markdown",
   "id": "af317a94",
   "metadata": {
    "deletable": false,
    "editable": false,
    "nbgrader": {
     "cell_type": "markdown",
     "checksum": "e76ef40fcc3f08a0484661497162a1a9",
     "grade": false,
     "grade_id": "cell-4ea391677951116c",
     "locked": true,
     "schema_version": 3,
     "solution": false,
     "task": false
    }
   },
   "source": [
    "### General announcements\n",
    "\n",
    "* Do *not* share your solutions, and do *not* copy solutions from others. By submitting your solutions, you claim that you alone are responsible for this code.\n",
    "\n",
    "* Do *not* email questions directly, since we want to provide everybody with the same information and avoid repeating the same answers. Instead, please post your questions regarding this assignment in the correct support forum on Brightspace, this way everybody can benefit from the response. If you do have a particular question that you want to ask directly, please use the scheduled Q&A hours to ask the TA.\n",
    "\n",
    "* There is a strict deadline for each assignment. Students are responsible to ensure that they have uploaded their work in time. So, please double check that your upload succeeded to the Brightspace and avoid any late penalties.\n",
    "\n",
    "* This [Jupyter notebook](https://jupyter.org/) uses `nbgrader` to help us with automated tests. `nbgrader` will make various cells in this notebook \"uneditable\" or \"unremovable\" and gives them a special id in the cell metadata. This way, when we run our checks, the system will check the existence of the cell ids and verify the number of points and which checks must be run. While there are ways that you can edit the metadata and work around the restrictions to delete or modify these special cells, you should not do that since then our nbgrader backend will not be able to parse your notebook and give you points for the assignment. You are free to add additional cells, but if you find a cell that you cannot modify or remove, please know that this is on purpose.\n",
    "\n",
    "* This notebook will have in various places a line that throws a `NotImplementedError` exception. These are locations where the assignment requires you to adapt the code! These lines are just there as a reminder for youthat you have not yet adapted that particular piece of code, especially when you execute all the cells. Once your solution code replaced these lines, it should accordingly *not* throw any exceptions anymore.\n",
    "\n",
    "Before you turn this problem in, make sure everything runs as expected. First, **restart the kernel** (in the menubar, select Kernel$\\rightarrow$Restart) and then **run all cells** (in the menubar, select Cell$\\rightarrow$Run All)."
   ]
  },
  {
   "cell_type": "code",
   "execution_count": null,
   "id": "3c956945",
   "metadata": {},
   "outputs": [],
   "source": []
  },
  {
   "cell_type": "markdown",
   "id": "387d2c60",
   "metadata": {
    "deletable": false,
    "editable": false,
    "nbgrader": {
     "cell_type": "markdown",
     "checksum": "1fe19046a8e1d2c030a1a4b8764537a6",
     "grade": false,
     "grade_id": "cell-ed88010142fb94bb",
     "locked": true,
     "schema_version": 3,
     "solution": false,
     "task": false
    }
   },
   "source": [
    "# Task 2a.4 - PD+ (2p)\n",
    "\n",
    "**Author:** Maximilian Stölzle (M.W.Stolzle@tudelft.nl)\n",
    "\n",
    "In this task, you will implement a PD+ controller. The controller consists of the feedforward term\n",
    "\n",
    "\\begin{equation}\n",
    "\\tau_\\mathrm{ff} = M(\\theta) \\: \\ddot{\\theta}^\\mathrm{d} + C(\\theta, \\dot{\\theta}) \\: \\dot{\\theta}^\\mathrm{d} + G(\\theta),\n",
    "\\end{equation}\n",
    "\n",
    "and the PD feedback term\n",
    "\n",
    "\\begin{equation}\n",
    "\\tau_\\mathrm{fb} = k_\\mathrm{p} \\, (\\theta^\\mathrm{d}-\\theta) + k_\\mathrm{d} \\, (\\dot{\\theta}^\\mathrm{d}-\\dot{\\theta}).\n",
    "\\end{equation}\n",
    "\n",
    "We emphasize the similarity in structure of the control law with respect to _PD + feedforward_ from task 2a.3. However, the dynamical matrices (i.e. $M$, $C$, and $G$) are now evaluated at the current robot state instead of along the trajectory."
   ]
  },
  {
   "cell_type": "code",
   "execution_count": null,
   "id": "35339f62",
   "metadata": {
    "deletable": false,
    "editable": false,
    "nbgrader": {
     "cell_type": "code",
     "checksum": "9071cc941be86e621164f3237f4ea677",
     "grade": false,
     "grade_id": "cell-e33520fa3a4d3861",
     "locked": true,
     "schema_version": 3,
     "solution": false,
     "task": false
    }
   },
   "outputs": [],
   "source": [
    "# Reloads the python files outside of this notebook automatically\n",
    "%load_ext autoreload\n",
    "%autoreload 2\n",
    "\n",
    "# import all Python modules\n",
    "from distutils.util import strtobool\n",
    "from functools import partial\n",
    "from IPython.display import display, HTML  # For animations in the notebook\n",
    "from jax.config import config as jax_config\n",
    "\n",
    "jax_config.update(\"jax_platform_name\", \"cpu\")  # set default device to 'cpu'\n",
    "jax_config.update(\"jax_enable_x64\", True)  # double precision\n",
    "from jax import numpy as jnp\n",
    "import os\n",
    "from pathlib import Path\n",
    "\n",
    "from jax_double_pendulum.dynamics import dynamical_matrices\n",
    "from jax_double_pendulum.robot_parameters import ROBOT_PARAMS\n",
    "\n",
    "# define boolean to check if the notebook is run for the purposes of autograding\n",
    "AUTOGRADING = strtobool(os.environ.get(\"AUTOGRADING\", \"false\"))"
   ]
  },
  {
   "cell_type": "markdown",
   "id": "f363e8c6",
   "metadata": {
    "deletable": false,
    "editable": false,
    "nbgrader": {
     "cell_type": "markdown",
     "checksum": "ac2f08c6ccb4db9de63258d3b0d2428a",
     "grade": false,
     "grade_id": "cell-a583b9b421a38cd6",
     "locked": true,
     "schema_version": 3,
     "solution": false,
     "task": false
    }
   },
   "source": [
    "## Derivation of the closed-loop system dynamics (1p)\n",
    "\n",
    "Please derive the closed-loop dynamics by substituting the control law into the equations of motion. Which equation is correct?\n",
    "\n",
    "**A.** $M(\\theta) \\: \\ddot{\\theta} + C(\\theta, \\dot{\\theta}) \\: \\dot{\\theta} + G(\\theta) = M(\\theta^\\mathrm{d}) \\: \\ddot{\\theta}^\\mathrm{d} + C(\\theta^\\mathrm{d}, \\dot{\\theta}^\\mathrm{d}) \\: \\dot{\\theta}^\\mathrm{d} + G(\\theta^\\mathrm{d}) + k_\\mathrm{p} \\, (\\theta^\\mathrm{d}-\\theta) + k_\\mathrm{d} \\, (\\dot{\\theta}^\\mathrm{d}-\\dot{\\theta})$\n",
    "\n",
    "**B.**  $M(\\theta^\\mathrm{d}) \\: (\\ddot{\\theta}^\\mathrm{d} - \\ddot{\\theta}) + C(\\theta^\\mathrm{d}, \\dot{\\theta}^\\mathrm{d}) \\: (\\dot{\\theta}^\\mathrm{d} - \\dot{\\theta}) = k_\\mathrm{p} \\, (\\theta^\\mathrm{d}-\\theta) + k_\\mathrm{d} \\, (\\dot{\\theta}^\\mathrm{d}-\\dot{\\theta})$\n",
    "\n",
    "**C.** $M(\\theta) \\: (\\ddot{\\theta} - \\ddot{\\theta}^\\mathrm{d}) + C(\\theta, \\dot{\\theta}) \\: (\\dot{\\theta} - \\dot{\\theta}^\\mathrm{d}) = k_\\mathrm{p} \\, (\\theta^\\mathrm{d}-\\theta) + k_\\mathrm{d} \\, (\\dot{\\theta}^\\mathrm{d}-\\dot{\\theta})$\n",
    "\n",
    "**D.** $M(\\theta) \\: (\\ddot{\\theta}^\\mathrm{d} - \\ddot{\\theta}) + C(\\theta, \\dot{\\theta}) \\: (\\dot{\\theta}^\\mathrm{d} - \\dot{\\theta}) = k_\\mathrm{p} \\, (\\theta^\\mathrm{d}-\\theta) + k_\\mathrm{d} \\, (\\dot{\\theta}^\\mathrm{d}-\\dot{\\theta})$"
   ]
  },
  {
   "cell_type": "code",
   "execution_count": null,
   "id": "9ad4f585",
   "metadata": {
    "deletable": false,
    "nbgrader": {
     "cell_type": "code",
     "checksum": "2cdc12d91dd91fdc354b77dbb5119f23",
     "grade": false,
     "grade_id": "Q1-answer",
     "locked": false,
     "schema_version": 3,
     "solution": true,
     "task": false
    }
   },
   "outputs": [],
   "source": [
    "# please write the answer (\"A\", \"B\", \"C\", or \"D\") into the `answer_1` variable\n",
    "answer_1 = None\n",
    "\n",
    "# YOUR CODE HERE\n",
    "raise NotImplementedError()"
   ]
  },
  {
   "cell_type": "code",
   "execution_count": null,
   "id": "dc8d96df",
   "metadata": {
    "deletable": false,
    "editable": false,
    "nbgrader": {
     "cell_type": "code",
     "checksum": "8041443df3d18b5d5e0a0355e9812e62",
     "grade": true,
     "grade_id": "cell-c4da21731ff7b5bf",
     "locked": true,
     "points": 1,
     "schema_version": 3,
     "solution": false,
     "task": false
    }
   },
   "outputs": [],
   "source": [
    "# DO NOT REMOVE OR MODIFY THIS CELL\n",
    "assert answer_1 in [\"A\", \"B\", \"C\", \"D\"], 'Please answer \"A\", \"B\", \"C\", or \"D\"'\n"
   ]
  },
  {
   "cell_type": "markdown",
   "id": "e55c86e8",
   "metadata": {
    "deletable": false,
    "editable": false,
    "nbgrader": {
     "cell_type": "markdown",
     "checksum": "88a28440d8fd3afcebeb1438333c34e2",
     "grade": false,
     "grade_id": "cell-64d8b35b3e5c9b1f",
     "locked": true,
     "schema_version": 3,
     "solution": false,
     "task": false
    }
   },
   "source": [
    "## Implementing `ctrl_ff_pd_plus` (0.5p)\n",
    "Please implement a feedforward term of the PD+ controller into the function `ctrl_ff_pd_plus` in the notebook `controllers.ipynb`.\n",
    "You can use `M, C, G = dynamical_matrices_fn(.)` to access the components of the equations of motion."
   ]
  },
  {
   "cell_type": "code",
   "execution_count": null,
   "id": "5bc6a16a",
   "metadata": {
    "deletable": false,
    "editable": false,
    "nbgrader": {
     "cell_type": "code",
     "checksum": "3acd76443e433e9635d5189053e31bc2",
     "grade": true,
     "grade_id": "A-ctr_fb_pd",
     "locked": true,
     "points": 0.5,
     "schema_version": 3,
     "solution": false,
     "task": false
    }
   },
   "outputs": [],
   "source": [
    "# DO NOT REMOVE OR MODIFY THIS CELL\n",
    "\n",
    "# import PD feedback and PD+ controllers from controllers.ipynb\n",
    "from ipynb.fs.full.controllers import ctrl_fb_pd, ctrl_ff_pd_plus\n",
    "\n",
    "# construct feedforward controller\n",
    "ctrl_ff = partial(ctrl_ff_pd_plus, partial(dynamical_matrices, ROBOT_PARAMS))\n",
    "\n",
    "# test output shape of ctr_ff_pd_plus\n",
    "_th, _th_d = jnp.ones((2,)), jnp.ones((2,))\n",
    "_th_des, _th_d_des, _th_dd_des = jnp.ones((2,)), jnp.ones((2,)), jnp.ones((2,))\n",
    "_tau_dummy = ctrl_ff(_th, _th_d, _th_des, _th_d_des, _th_dd_des)\n",
    "print(\"Computed torque:\", _tau_dummy, \"Nm\")\n",
    "assert _tau_dummy.shape == (2,), \"The computed torque needs to be of shape (2, )\"\n"
   ]
  },
  {
   "cell_type": "markdown",
   "id": "ae56f654",
   "metadata": {
    "deletable": false,
    "editable": false,
    "nbgrader": {
     "cell_type": "markdown",
     "checksum": "7d8ca1000676d1d197f64765fae1186c",
     "grade": false,
     "grade_id": "cell-fe12b8de9b7c8711",
     "locked": true,
     "schema_version": 3,
     "solution": false,
     "task": false
    }
   },
   "source": [
    "## Simulating the closed-loop system (0.5p)\n",
    "\n",
    "Please simulate the closed-loop system using a PD+ controller for regulating the system to follow the given ellipse trajectory. You can use the notebook from Task 2a.1 as an inspiration. You don't need to tune the feedback gains yourself as they are already set to $k_\\mathrm{p} = \\mathrm{diag}(500, 500)$ and $k_\\mathrm{d} = \\mathrm{diag}(50, 50)$."
   ]
  },
  {
   "cell_type": "code",
   "execution_count": null,
   "id": "17e71a9c",
   "metadata": {
    "deletable": false,
    "editable": false,
    "nbgrader": {
     "cell_type": "code",
     "checksum": "fbe2238a725ecce6dd8d1643c3a3635e",
     "grade": false,
     "grade_id": "cell-5dcd52f754d55bd1",
     "locked": true,
     "schema_version": 3,
     "solution": false,
     "task": false
    }
   },
   "outputs": [],
   "source": [
    "from jax_double_pendulum.analysis import *\n",
    "from jax_double_pendulum.motion_planning import (\n",
    "    generate_ellipse_trajectory,\n",
    "    ELLIPSE_PARAMS,\n",
    ")\n",
    "from jax_double_pendulum.robot_parameters import ROBOT_PARAMS\n",
    "from jax_double_pendulum.robot_simulation import simulate_robot\n",
    "from jax_double_pendulum.visualization import animate_robot\n",
    "\n",
    "# simulation parameters\n",
    "sim_duration = 10.0  # [s]\n",
    "sim_dt = 1e-2  # [s]\n",
    "\n",
    "# define time steps\n",
    "t_ts = sim_dt * jnp.arange(int(sim_duration / sim_dt))\n",
    "\n",
    "# generate trajectory\n",
    "traj_ts = generate_ellipse_trajectory(\n",
    "    rp=ROBOT_PARAMS,\n",
    "    t_ts=t_ts,\n",
    "    **ELLIPSE_PARAMS,\n",
    ")\n",
    "\n",
    "# initial link angles (i.e. at the first time-step)\n",
    "th_0 = traj_ts[\"th_ts\"][0] - jnp.array([0.1, 0.2])\n",
    "\n",
    "# controller parameters\n",
    "# define the proportional gain matrix kp and the derivative gain matrix kd\n",
    "kp = 500 * jnp.eye(2)  # [Nm/rad]\n",
    "kd = 50 * jnp.eye(2)  # [Nm s/rad]"
   ]
  },
  {
   "cell_type": "code",
   "execution_count": null,
   "id": "20bef4f6",
   "metadata": {
    "deletable": false,
    "nbgrader": {
     "cell_type": "code",
     "checksum": "5d97f697baf15be227ee277589fcdbb7",
     "grade": false,
     "grade_id": "cell-8210b22e8d95b3b62",
     "locked": false,
     "schema_version": 3,
     "solution": true,
     "task": false
    }
   },
   "outputs": [],
   "source": [
    "# simulate the robot with the given controller\n",
    "# save the simulation date in `sim_ts`\n",
    "\n",
    "# YOUR CODE HERE\n",
    "raise NotImplementedError()\n",
    "\n",
    "# evaluate the control performance quantitatively\n",
    "rmse_th, rmse_th_d, rmse_th_dd = compute_configuration_space_rmse(traj_ts, sim_ts)\n",
    "rmse_x, rmse_x_d, rmse_x_dd = compute_operational_space_rmse(traj_ts, sim_ts)\n",
    "with jnp.printoptions(precision=3):\n",
    "    print(\n",
    "        \"RMSE theta:\",\n",
    "        rmse_th,\n",
    "        \"rad, RMSE theta_d:\",\n",
    "        rmse_th_d,\n",
    "        \"rad/s, RMSE theta_dd:\",\n",
    "        rmse_th_dd,\n",
    "        \"rad/s^2\",\n",
    "    )\n",
    "    print(\n",
    "        \"RMSE x:\",\n",
    "        f\"{jnp.linalg.norm(rmse_x):.4f}\",\n",
    "        \"m, RMSE x_d:\",\n",
    "        f\"{jnp.linalg.norm(rmse_x_d):.3f}\",\n",
    "        \"m/s, RMSE x_dd:\",\n",
    "        f\"{jnp.linalg.norm(rmse_x_dd):.2f}\",\n",
    "        \"m/s^2\",\n",
    "    )"
   ]
  },
  {
   "cell_type": "code",
   "execution_count": null,
   "id": "b7fc7e62",
   "metadata": {
    "deletable": false,
    "editable": false,
    "nbgrader": {
     "cell_type": "code",
     "checksum": "9be4b90dfd10d2a1b60cdc242fcee876",
     "grade": true,
     "grade_id": "A_rmse_x",
     "locked": true,
     "points": 0.5,
     "schema_version": 3,
     "solution": false,
     "task": false
    }
   },
   "outputs": [],
   "source": [
    "# DO NOT REMOVE OR MODIFY THIS CELL\n"
   ]
  },
  {
   "cell_type": "code",
   "execution_count": null,
   "id": "d672e713",
   "metadata": {
    "deletable": false,
    "editable": false,
    "nbgrader": {
     "cell_type": "code",
     "checksum": "14075636a1baa66e02190b1d588678de",
     "grade": false,
     "grade_id": "cell-7aacd2a5dfff0085",
     "locked": true,
     "schema_version": 3,
     "solution": false,
     "task": false
    }
   },
   "outputs": [],
   "source": [
    "# define folder where to save animations and plots\n",
    "outputs_dir = Path(\"outputs\")\n",
    "outputs_dir.mkdir(parents=True, exist_ok=True)\n",
    "\n",
    "# plot the configuration-space evolution\n",
    "plot_configuration_space_trajectory_following(\n",
    "    traj_ts,\n",
    "    sim_ts,\n",
    "    filepath=str(\n",
    "        outputs_dir / \"task_2a-4_configuration_space_trajectory_following.pdf\"\n",
    "    ),\n",
    ")"
   ]
  },
  {
   "cell_type": "code",
   "execution_count": null,
   "id": "66e13585",
   "metadata": {
    "deletable": false,
    "editable": false,
    "nbgrader": {
     "cell_type": "code",
     "checksum": "806c86e70a11496bbd06ede6b6ee776d",
     "grade": false,
     "grade_id": "cell-59523b8231c27db0",
     "locked": true,
     "schema_version": 3,
     "solution": false,
     "task": false
    }
   },
   "outputs": [],
   "source": [
    "# plot the operational-space evolution\n",
    "plot_operational_space_trajectory_following(\n",
    "    traj_ts,\n",
    "    sim_ts,\n",
    "    filepath=str(outputs_dir / \"task_2a-4_operational_space_trajectory_following.pdf\"),\n",
    ")"
   ]
  },
  {
   "cell_type": "code",
   "execution_count": null,
   "id": "eef0a906",
   "metadata": {
    "deletable": false,
    "editable": false,
    "nbgrader": {
     "cell_type": "code",
     "checksum": "86b1e3875b2964c5123227545b2b2248",
     "grade": false,
     "grade_id": "cell-3414576f6ff34f97",
     "locked": true,
     "schema_version": 3,
     "solution": false,
     "task": false
    }
   },
   "outputs": [],
   "source": [
    "# plot the actuation sequence\n",
    "plot_actuation(sim_ts, filepath=str(outputs_dir / \"task_2a-4_actuation.pdf\"))"
   ]
  },
  {
   "cell_type": "code",
   "execution_count": null,
   "id": "7a9b3c7a",
   "metadata": {
    "deletable": false,
    "editable": false,
    "nbgrader": {
     "cell_type": "code",
     "checksum": "1d54cabe6f92f0604ae736991b2cf62e",
     "grade": false,
     "grade_id": "cell-14798fd8a1c2f5e8",
     "locked": true,
     "schema_version": 3,
     "solution": false,
     "task": false
    }
   },
   "outputs": [],
   "source": [
    "if not AUTOGRADING:\n",
    "    ani = animate_robot(\n",
    "        ROBOT_PARAMS,\n",
    "        traj_ts=traj_ts,\n",
    "        sim_ts=sim_ts,\n",
    "        step_skip=5,\n",
    "        show=False,\n",
    "        filepath=str(outputs_dir / \"task_2a-4_controlled_robot.mp4\"),\n",
    "    )\n",
    "    display(HTML(ani.to_html5_video()))"
   ]
  }
 ],
 "metadata": {
  "kernelspec": {
   "display_name": "Python 3 (ipykernel)",
   "language": "python",
   "name": "python3"
  },
  "language_info": {
   "codemirror_mode": {
    "name": "ipython",
    "version": 3
   },
   "file_extension": ".py",
   "mimetype": "text/x-python",
   "name": "python",
   "nbconvert_exporter": "python",
   "pygments_lexer": "ipython3",
   "version": "3.10.9"
  }
 },
 "nbformat": 4,
 "nbformat_minor": 5
}
